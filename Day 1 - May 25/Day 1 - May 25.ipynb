{
 "cells": [
  {
   "cell_type": "markdown",
   "metadata": {},
   "source": [
    "# Day - 1\n",
    "# Date - 25 May 2019\n",
    "# Day Outcomes:\n",
    "1. Data Analysis of Mobile apps data"
   ]
  },
  {
   "cell_type": "markdown",
   "metadata": {},
   "source": [
    "# Task 1\n",
    ">* Calculate the average rating for free apps\n",
    "* Calculate the average rating for non-free apps\n",
    "* Calculate the average rating of Gaming and Non-Gaming apps\n",
    "* Calculate the average rating of free Gaming apps\n",
    "* Compute the average rating of the apps whose genre is either \"Social Networking\" or \"Games.\"\n",
    "* Compute the average rating of the non-free apps whose genre is either \"Social Networking\" or \"Games.\"\n",
    "* Compute the average rating of the apps that have a price greater than $9.\n",
    "* Categorise all apps by labelling each app as \"free\"(=0),  \"affordable\" (<20),  \"expensive\" (<50)  or \"very expensive\" (>50). Add a label column to the data."
   ]
  },
  {
   "cell_type": "code",
   "execution_count": 1,
   "metadata": {},
   "outputs": [
    {
     "name": "stdout",
     "output_type": "stream",
     "text": [
      "{'Average rating of free apps': 3.3767258382642997, 'Average rating of paid apps': 3.720948742438714}\n",
      "{'Average rating of free games': 3.3767258382642997, 'Average rating of paid games': 3.720948742438714}\n",
      "{'Average rating of gaming apps': 3.6850077679958573, 'Average rating of non-gaming apps': 3.343928035982009}\n",
      "{'Average rating of apps which are $9 above': 3.5280898876404496}\n",
      "{'Average rating of free social and gaming apps': 3.496875, 'Average rating of paid social and gaming apps': 3.8904235727440146}\n",
      "\n"
     ]
    },
    {
     "data": {
      "text/plain": [
       "0.6501852699999997"
      ]
     },
     "execution_count": 1,
     "metadata": {},
     "output_type": "execute_result"
    }
   ],
   "source": [
    "import pandas as pd\n",
    "import numpy as np\n",
    "import timeit\n",
    "\n",
    "def generateAverage(list1):\n",
    "    avg_list = sum(list1)/len(list1)\n",
    "    return avg_list\n",
    "\n",
    "def generateAppsReport(AppData):\n",
    "    start = timeit.default_timer()\n",
    "    \n",
    "    genre, app_free_rating, app_cost_rating = [], [], []\n",
    "    game_free_rating, game_cost_rating, costnine = [], [], []\n",
    "    social_free_rating, social_cost_rating, raw, raw_data = [], [], genre, []\n",
    "    free, affordable, expensive, very_expensive = [], [], [], []\n",
    "    game, non_game = [], []\n",
    "    \n",
    "    df = pd.read_csv(AppData)\n",
    "    \n",
    "    for i in df.values:\n",
    "        genre.append(i[12])\n",
    "        \n",
    "    for i in range(0, len(genre)):\n",
    "        if(df.iat[i,5] == 0.0):\n",
    "            app_free_rating.append(df.iat[i,8])\n",
    "            free.append(df.iat[i,2])\n",
    "            \n",
    "        else:\n",
    "            app_cost_rating.append(df.iat[i,8])\n",
    "    \n",
    "    for i in range(0,len(genre)):\n",
    "        if(genre[i] == 'Games'):\n",
    "            game.append(df.iat[i,8])\n",
    "            if(df.iat[i,5] == 0.0):\n",
    "                game_free_rating.append(df.iat[i,8])\n",
    "            else:\n",
    "                game_cost_rating.append(df.iat[i,8])\n",
    "        else:\n",
    "            non_game.append(df.iat[i,8])\n",
    "                \n",
    "    for i in range(0, len(genre)):        \n",
    "        if(genre[i] == 'Social Networking' or genre[i] == 'Games'):\n",
    "            if(df.iat[i,5] == 0.0):\n",
    "                social_free_rating.append(df.iat[i,8])\n",
    "            else:\n",
    "                social_cost_rating.append(df.iat[i,8])\n",
    "                \n",
    "    for i in range(0, len(genre)):\n",
    "        if(df.iat[i,5] > 9.0):\n",
    "            costnine.append(df.iat[i,8])\n",
    "    \n",
    "    for i in range(0, len(genre)):    \n",
    "        if(df.iat[i,5] == 0.0):\n",
    "            raw.insert(i,'free')\n",
    "            \n",
    "        if(df.iat[i,5] > 0.0 and df.iat[i,5] < 20.0):\n",
    "            affordable.append(df.iat[i,2])\n",
    "            raw.insert(i,'affordable')\n",
    "        \n",
    "        if(df.iat[i,5] > 20.0 and df.iat[i,5] < 50.0):\n",
    "            expensive.append(df.iat[i,2])\n",
    "            raw.insert(i,'expensive')\n",
    "            \n",
    "        if(df.iat[i,5] > 50.0):\n",
    "            very_expensive.append(df.iat[i,2])\n",
    "            raw.insert(i,'very expensive')\n",
    "            \n",
    "    app_avg_free = sum(app_free_rating)/len(app_free_rating)\n",
    "    app_avg_cost = sum(app_cost_rating)/len(app_cost_rating)\n",
    "    game_avg_free = sum(game_free_rating)/len(game_free_rating)\n",
    "    game_avg_cost = sum(game_cost_rating)/len(game_cost_rating)\n",
    "    avg_costnine = sum(costnine)/len(costnine)\n",
    "    social_avg_free = sum(social_free_rating)/len(social_free_rating)\n",
    "    social_avg_cost = sum(social_cost_rating)/len(social_cost_rating)\n",
    "    avg_game = sum(game)/len(game)\n",
    "    avg_non_game = sum(non_game)/len(non_game)\n",
    "    \n",
    "    for i in range(0,len(raw)):\n",
    "        if raw[i] == 'Games':\n",
    "            raw_data = raw[0:i]\n",
    "            break\n",
    "    \n",
    "    df['Status'] = raw_data\n",
    "    df.to_csv(AppData, index = False)      \n",
    "    \n",
    "    print({'Average rating of free apps' : app_avg_free, 'Average rating of paid apps' : app_avg_cost})\n",
    "    print({'Average rating of free games' : app_avg_free, 'Average rating of paid games' : app_avg_cost})\n",
    "    print({'Average rating of gaming apps' : avg_game, 'Average rating of non-gaming apps' : avg_non_game})\n",
    "    print({'Average rating of apps which are $9 above' : avg_costnine})\n",
    "    print({'Average rating of free social and gaming apps' : social_avg_free, 'Average rating of paid social and gaming apps' : social_avg_cost}, end = '\\n\\n')\n",
    "    \n",
    "    return timeit.default_timer() - start\n",
    "    \n",
    "generateAppsReport('AppleStore1.csv')"
   ]
  }
 ],
 "metadata": {
  "kernelspec": {
   "display_name": "Python 3",
   "language": "python",
   "name": "python3"
  },
  "language_info": {
   "codemirror_mode": {
    "name": "ipython",
    "version": 3
   },
   "file_extension": ".py",
   "mimetype": "text/x-python",
   "name": "python",
   "nbconvert_exporter": "python",
   "pygments_lexer": "ipython3",
   "version": "3.7.1"
  }
 },
 "nbformat": 4,
 "nbformat_minor": 2
}
