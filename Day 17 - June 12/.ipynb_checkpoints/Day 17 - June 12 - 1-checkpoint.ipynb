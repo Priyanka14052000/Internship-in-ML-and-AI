{
 "cells": [
  {
   "cell_type": "markdown",
   "metadata": {},
   "source": [
    "# Logistic Regression "
   ]
  },
  {
   "cell_type": "markdown",
   "metadata": {},
   "source": [
    "* Logistic Regression is the appropriate regression analysis to conduct when the dependent variable is dichotomous (binary).  Like all regression analyses, the logistic regression is a predictive analysis.  Logistic regression is used to describe data and to explain the relationship between one dependent binary variable and one or more  independent variables.\n",
    "* If the output variable or the response variable is discrete(categorical)  in nature, then we use the Logistic Regression\n",
    "* <b>Example</b> : Yes or No, get a disease or not, pass or fail, defective or non-defective \n",
    "* Also called as classification algorithm, because we are classifying the data. It predicts the probability associated with each dependent variable category.\n",
    "* It does not give us the output, it just gives us the probability associated with the output. As it is a classification problem, all the values will lie between 0 and 1.\n",
    "* The  shape of the curve looks like a <b>sigmoid curve</b>.\n",
    "\n",
    "* To predict which class the data belongs to, a threshold can be set. Based upon this threshold obtained estimated prob is classified into classes.\n",
    "\n",
    "* Multiple Logistic Regression is quite similar to MLR, only the b coefficients vary.\n",
    "    * #### y = b0 + b1x1 + b2x2 + b3x3 +........ bnxn + E\n",
    "    * ####  b0 is the y-intercept\n",
    "    * ####  b1, b2, b3,......bn are the coefficients in the logistic regression which are not the original values, these are the log values."
   ]
  },
  {
   "cell_type": "markdown",
   "metadata": {},
   "source": [
    "## Logistic Regression - Binary and Nominal"
   ]
  },
  {
   "cell_type": "markdown",
   "metadata": {},
   "source": [
    "* <b>Binary Logistic Regression</b> is performed on binary response variables. It has only 2 categories such as  P/F, T/F, D/ND.....\n",
    "* <b>Nominal Logistic Regression</b> is performed on nominal variables. These are categorical variables that have more than three possible categories with no natural ordering.\n",
    "    * <b>Example</b> : Type of vehicle like Petrol, Diesel, CNG\n",
    "* <b>Ordinal Logistic Regression</b> is performed on ordinal response variables. These are categorical variables that have three or more possible categories with natural ordering.\n",
    "    * <b>Example</b> : 10, 12.  "
   ]
  },
  {
   "cell_type": "markdown",
   "metadata": {},
   "source": [
    "## Confusion Matrix\n",
    "It measures the effectiveness of the model. More the effectiveness better the performance and that's exactly what we want. Confusion Matrix is a performance measurement for ML Classification"
   ]
  },
  {
   "cell_type": "markdown",
   "metadata": {},
   "source": [
    "## ROC - AUC Curve:\n",
    "It is a simple way to summarize all the information. "
   ]
  }
 ],
 "metadata": {
  "kernelspec": {
   "display_name": "Python 3",
   "language": "python",
   "name": "python3"
  },
  "language_info": {
   "codemirror_mode": {
    "name": "ipython",
    "version": 3
   },
   "file_extension": ".py",
   "mimetype": "text/x-python",
   "name": "python",
   "nbconvert_exporter": "python",
   "pygments_lexer": "ipython3",
   "version": "3.7.1"
  }
 },
 "nbformat": 4,
 "nbformat_minor": 2
}
