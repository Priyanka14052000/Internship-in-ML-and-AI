{
 "cells": [
  {
   "cell_type": "markdown",
   "metadata": {},
   "source": [
    "# Day - 8\n",
    "# Date - 03 June 2019\n",
    "# Outcomes - \n",
    ">* understanding statistic concepts"
   ]
  },
  {
   "cell_type": "markdown",
   "metadata": {},
   "source": [
    "#  "
   ]
  },
  {
   "cell_type": "markdown",
   "metadata": {},
   "source": [
    "### Printing first and last five columns"
   ]
  },
  {
   "cell_type": "code",
   "execution_count": 1,
   "metadata": {},
   "outputs": [
    {
     "name": "stdout",
     "output_type": "stream",
     "text": [
      "              Name Team  Pos  Height  Weight        BMI Birth_Place  \\\n",
      "0    Aerial Powers  DAL    F     183    71.0  21.200991          US   \n",
      "1      Alana Beard   LA  G/F     185    73.0  21.329438          US   \n",
      "2     Alex Bentley  CON    G     170    69.0  23.875433          US   \n",
      "3  Alex Montgomery  SAN  G/F     185    84.0  24.543462          US   \n",
      "4     Alexis Jones  MIN    G     175    78.0  25.469388          US   \n",
      "\n",
      "           Birthdate  Age         College ...  OREB  DREB  REB  AST  STL  BLK  \\\n",
      "0   January 17, 1994   23  Michigan State ...     6    22   28   12    3    6   \n",
      "1       May 14, 1982   35            Duke ...    19    82  101   72   63   13   \n",
      "2   October 27, 1990   26      Penn State ...     4    36   40   78   22    3   \n",
      "3  December 11, 1988   28    Georgia Tech ...    35   134  169   65   20   10   \n",
      "4     August 5, 1994   23          Baylor ...     3     9   12   12    7    0   \n",
      "\n",
      "   TO  PTS  DD2  TD3  \n",
      "0  12   93    0    0  \n",
      "1  40  217    0    0  \n",
      "2  24  218    0    0  \n",
      "3  38  188    2    0  \n",
      "4  14   50    0    0  \n",
      "\n",
      "[5 rows x 32 columns]\n",
      "                 Name Team  Pos  Height  Weight        BMI Birth_Place  \\\n",
      "138     Tiffany Hayes  ATL    G     178    70.0  22.093170          US   \n",
      "139   Tiffany Jackson   LA    F     191    84.0  23.025685          US   \n",
      "140  Tiffany Mitchell  IND    G     175    69.0  22.530612          US   \n",
      "141      Tina Charles   NY  F/C     193    84.0  22.550941          US   \n",
      "142     Yvonne Turner  PHO    G     175    59.0  19.265306          US   \n",
      "\n",
      "              Birthdate  Age         College ...  OREB  DREB  REB  AST  STL  \\\n",
      "138  September 20, 1989   27     Connecticut ...    28    89  117   69   37   \n",
      "139      April 26, 1985   32           Texas ...     5    18   23    3    1   \n",
      "140  September 23, 1984   32  South Carolina ...    16    70   86   39   31   \n",
      "141        May 12, 1988   29     Connecticut ...    56   212  268   75   21   \n",
      "142    October 13, 1987   29        Nebraska ...    11    13   24   30   18   \n",
      "\n",
      "     BLK  TO  PTS  DD2  TD3  \n",
      "138    8  50  467    0    0  \n",
      "139    3   8   28    0    0  \n",
      "140    5  40  277    0    0  \n",
      "141   22  71  582   11    0  \n",
      "142    1  32  151    0    0  \n",
      "\n",
      "[5 rows x 32 columns]\n"
     ]
    }
   ],
   "source": [
    "import pandas as pd\n",
    "\n",
    "def samplingData(stats):\n",
    "    df = pd.read_csv(stats)\n",
    "    \n",
    "    print(df.head(5))\n",
    "    print(df.tail(5))\n",
    "    return\n",
    "\n",
    "samplingData('WNBAStats.csv')"
   ]
  },
  {
   "cell_type": "markdown",
   "metadata": {},
   "source": [
    "#  "
   ]
  },
  {
   "cell_type": "markdown",
   "metadata": {},
   "source": [
    "### Finding number of rows"
   ]
  },
  {
   "cell_type": "code",
   "execution_count": 2,
   "metadata": {},
   "outputs": [
    {
     "data": {
      "text/plain": [
       "(143, 32)"
      ]
     },
     "execution_count": 2,
     "metadata": {},
     "output_type": "execute_result"
    }
   ],
   "source": [
    "import pandas as pd\n",
    "\n",
    "def samplingData(stats):\n",
    "    df = pd.read_csv(stats)\n",
    "    return df.shape\n",
    "\n",
    "samplingData('WNBAStats.csv')"
   ]
  },
  {
   "cell_type": "markdown",
   "metadata": {},
   "source": [
    "#  "
   ]
  },
  {
   "cell_type": "markdown",
   "metadata": {},
   "source": [
    "### Use the Games Played column to find the maximum number of games played by a player in the season 2016-2017. The data set contains all the players that had at least one game, so it's a population relative to our question. Find this parameter, and assign the result to a variable named parameter."
   ]
  },
  {
   "cell_type": "code",
   "execution_count": 3,
   "metadata": {},
   "outputs": [
    {
     "data": {
      "text/plain": [
       "{'Aerial Powers': 8,\n",
       " 'Alana Beard': 30,\n",
       " 'Alex Bentley': 26,\n",
       " 'Alex Montgomery': 31,\n",
       " 'Alexis Jones': 24,\n",
       " 'Alexis Peterson': 14,\n",
       " 'Alexis Prince': 16,\n",
       " 'Allie Quigley': 26,\n",
       " 'Allisha Gray': 30,\n",
       " 'Allison Hightower': 7,\n",
       " 'Alysha Clark': 30,\n",
       " 'Alyssa Thomas': 28,\n",
       " 'Amanda Zahui B.': 25,\n",
       " 'Amber Harris': 22,\n",
       " 'Aneika Henry': 4,\n",
       " 'Angel Robinson': 15,\n",
       " 'Asia Taylor': 20,\n",
       " 'Bashaara Graves': 5,\n",
       " 'Breanna Lewis': 12,\n",
       " 'Breanna Stewart': 29,\n",
       " 'Bria Hartley': 29,\n",
       " 'Bria Holmes': 28,\n",
       " 'Briann January': 25,\n",
       " 'Brionna Jones': 19,\n",
       " 'Brittany Boyd': 2,\n",
       " 'Brittney Griner': 22,\n",
       " 'Brittney Sykes': 30,\n",
       " 'Camille Little': 30,\n",
       " 'Candace Parker': 29,\n",
       " 'Candice Dupree': 29,\n",
       " 'Cappie Pondexter': 24,\n",
       " 'Carolyn Swords': 26,\n",
       " 'Cayla George': 28,\n",
       " 'Chelsea Gray': 30,\n",
       " 'Cheyenne Parker': 23,\n",
       " 'Clarissa dos Santos': 7,\n",
       " 'Courtney Paris': 16,\n",
       " 'Courtney Vandersloot': 22,\n",
       " 'Courtney Williams': 29,\n",
       " 'Crystal Langhorne': 30,\n",
       " 'Damiris Dantas': 30,\n",
       " 'Danielle Adams': 18,\n",
       " 'Danielle Robinson': 28,\n",
       " 'Dearica Hamby': 31,\n",
       " 'Devereaux Peters': 28,\n",
       " 'Diana Taurasi': 20,\n",
       " 'Elena Delle Donne': 30,\n",
       " 'Elizabeth Williams': 30,\n",
       " 'Emma Cannon': 18,\n",
       " 'Emma Meesseman': 23,\n",
       " 'Epiphanny Prince': 26,\n",
       " 'Erica Wheeler': 30,\n",
       " 'Érika de Souza': 30,\n",
       " 'Erlana Larkins': 20,\n",
       " 'Essence Carson': 15,\n",
       " 'Evelyn Akhator': 30,\n",
       " 'Glory Johnson': 4,\n",
       " 'Imani Boyette': 29,\n",
       " 'Isabelle Harrison': 31,\n",
       " 'Ivory Latta': 29,\n",
       " 'Jantel Lavender': 28,\n",
       " 'Jasmine Thomas': 27,\n",
       " 'Jazmon Gwathmey': 24,\n",
       " 'Jeanette Pohlen': 25,\n",
       " 'Jennifer Hamson': 10,\n",
       " 'Jessica Breland': 10,\n",
       " 'Jewell Loyd': 29,\n",
       " 'Jia Perkins': 30,\n",
       " 'Jonquel Jones': 29,\n",
       " 'Jordan Hooper': 29,\n",
       " 'Kaela Davis': 23,\n",
       " 'Kahleah Copper': 29,\n",
       " 'Kaleena Mosqueda-Lewis': 29,\n",
       " 'Karima Christmas-Kelly': 14,\n",
       " 'Kayla Alexander': 30,\n",
       " 'Kayla McBride': 31,\n",
       " 'Kayla Pedersen': 27,\n",
       " 'Kayla Thornton': 21,\n",
       " 'Keisha Hampton': 30,\n",
       " 'Kelsey Plum': 28,\n",
       " 'Kia Vaughn': 23,\n",
       " 'Kiah Stokes': 29,\n",
       " 'Kristi Toliver': 29,\n",
       " 'Krystal Thomas': 29,\n",
       " 'Lanay Montgomery': 7,\n",
       " 'Layshia Clarendon': 30,\n",
       " 'Leilani Mitchell': 30,\n",
       " 'Lindsay Allen': 23,\n",
       " 'Lindsay Whalen': 22,\n",
       " 'Lynetta Kizer': 20,\n",
       " 'Maimouna Diarra': 9,\n",
       " 'Makayla Epps': 14,\n",
       " 'Marissa Coleman': 30,\n",
       " 'Matee Ajavon': 27,\n",
       " 'Maya Moore': 29,\n",
       " 'Monique Currie': 32,\n",
       " 'Morgan Tuck': 17,\n",
       " 'Moriah Jefferson': 21,\n",
       " 'Natalie Achonwa': 30,\n",
       " 'Natasha Cloud': 24,\n",
       " 'Natasha Howard': 29,\n",
       " 'Nayo Raincock-Ekunwe': 27,\n",
       " 'Nia Coffey': 25,\n",
       " 'Nneka Ogwumike': 30,\n",
       " 'Noelle Quinn': 29,\n",
       " 'Odyssey Sims': 27,\n",
       " 'Plenette Pierson': 29,\n",
       " 'Rachel Banham': 26,\n",
       " 'Ramu Tokashiki': 29,\n",
       " 'Rebecca Allen': 28,\n",
       " 'Rebekkah Brunson': 26,\n",
       " 'Renee Montgomery': 29,\n",
       " 'Riquna Williams': 23,\n",
       " 'Sami Whitcomb': 29,\n",
       " 'Sancho Lyttle': 25,\n",
       " 'Sandrine Gruda': 4,\n",
       " 'Saniya Chong': 29,\n",
       " 'Seimone Augustus': 27,\n",
       " 'Sequoia Holmes': 24,\n",
       " 'Shatori Walker-Kimbrough': 22,\n",
       " 'Shavonte Zellous': 29,\n",
       " 'Shay Murphy': 23,\n",
       " 'Shekinna Stricklen': 29,\n",
       " 'Shenise Johnson': 14,\n",
       " 'Skylar Diggins-Smith': 30,\n",
       " 'Stefanie Dolson': 28,\n",
       " 'Stephanie Talbot': 30,\n",
       " 'Sue Bird': 27,\n",
       " 'Sugar Rodgers': 28,\n",
       " 'Sydney Colson': 25,\n",
       " 'Sydney Wiese': 25,\n",
       " 'Sylvia Fowles': 29,\n",
       " 'Tamera Young': 31,\n",
       " 'Tayler Hill': 18,\n",
       " 'Temi Fagbenle': 17,\n",
       " 'Theresa Plaisance': 30,\n",
       " 'Tianna Hawkins': 29,\n",
       " 'Tierra Ruffin-Pratt': 29,\n",
       " 'Tiffany Hayes': 29,\n",
       " 'Tiffany Jackson': 22,\n",
       " 'Tiffany Mitchell': 27,\n",
       " 'Tina Charles': 29,\n",
       " 'Yvonne Turner': 30}"
      ]
     },
     "execution_count": 3,
     "metadata": {},
     "output_type": "execute_result"
    }
   ],
   "source": [
    "import pandas as pd\n",
    "\n",
    "def samplingData(stats):\n",
    "    df = pd.read_csv(stats)\n",
    "    j, player_games = 0, {}\n",
    "    \n",
    "    games = list(df['Games Played'].values)\n",
    "    player = list(df['Name'].values)\n",
    "    parameter = max(games)\n",
    "    \n",
    "    for i in player:\n",
    "        player_games[i] =  games[j]\n",
    "        j += 1\n",
    "        \n",
    "    return player_games\n",
    "\n",
    "samplingData('WNBAStats.csv')"
   ]
  },
  {
   "cell_type": "markdown",
   "metadata": {},
   "source": [
    "#  "
   ]
  },
  {
   "cell_type": "markdown",
   "metadata": {},
   "source": [
    "### Using the Series.sample() method, sample randomly 30 players from the population, and assign the result to a variable named sample. When calling Series.sample(), use the the argument random_state = 1.\n",
    "When we use the random_state parameter, we make the generation of random numbers predictable."
   ]
  },
  {
   "cell_type": "code",
   "execution_count": 4,
   "metadata": {},
   "outputs": [
    {
     "data": {
      "text/plain": [
       "78     30\n",
       "116    29\n",
       "31     26\n",
       "5      14\n",
       "125    28\n",
       "45     20\n",
       "14      4\n",
       "44     28\n",
       "73     14\n",
       "89     20\n",
       "130    25\n",
       "53     20\n",
       "85     30\n",
       "93     27\n",
       "29     29\n",
       "16     20\n",
       "35      7\n",
       "90      9\n",
       "83     29\n",
       "19     29\n",
       "40     30\n",
       "92     30\n",
       "122    29\n",
       "98     30\n",
       "59     29\n",
       "42     28\n",
       "33     30\n",
       "99     24\n",
       "69     29\n",
       "97     21\n",
       "Name: Games Played, dtype: int64"
      ]
     },
     "execution_count": 4,
     "metadata": {},
     "output_type": "execute_result"
    }
   ],
   "source": [
    "import pandas as pd\n",
    "\n",
    "def samplingData(stats):\n",
    "    df = pd.read_csv(stats)\n",
    "    \n",
    "    sample = df['Games Played'].sample(n = 30, random_state=1)\n",
    "    return sample\n",
    "\n",
    "samplingData('WNBAStats.csv')"
   ]
  },
  {
   "cell_type": "markdown",
   "metadata": {},
   "source": [
    "#  "
   ]
  },
  {
   "cell_type": "markdown",
   "metadata": {},
   "source": [
    "### Find the maximum number of games using the sample, and assign the result to a variable named statistic."
   ]
  },
  {
   "cell_type": "code",
   "execution_count": 5,
   "metadata": {},
   "outputs": [
    {
     "data": {
      "text/plain": [
       "30"
      ]
     },
     "execution_count": 5,
     "metadata": {},
     "output_type": "execute_result"
    }
   ],
   "source": [
    "import pandas as pd\n",
    "\n",
    "def samplingData(stats):\n",
    "    df = pd.read_csv(stats)\n",
    "    \n",
    "    sample = df['Games Played'].sample(n = 30, random_state=1) #when we use the random_state = 1 we'll get the same five numbers \n",
    "    statistic = max(sample.values)                             #no matter how many times we run the code.\n",
    "    \n",
    "    return statistic\n",
    "\n",
    "samplingData('WNBAStats.csv')"
   ]
  },
  {
   "cell_type": "markdown",
   "metadata": {},
   "source": [
    "#  "
   ]
  },
  {
   "cell_type": "markdown",
   "metadata": {},
   "source": [
    "### Measure the sampling error, and assign the result to a variable named sampling_error."
   ]
  },
  {
   "cell_type": "code",
   "execution_count": 6,
   "metadata": {},
   "outputs": [
    {
     "data": {
      "text/plain": [
       "2"
      ]
     },
     "execution_count": 6,
     "metadata": {},
     "output_type": "execute_result"
    }
   ],
   "source": [
    "import pandas as pd\n",
    "\n",
    "def samplingData(stats):\n",
    "    df = pd.read_csv(stats)\n",
    "    \n",
    "    games = list(df['Games Played'].values)\n",
    "    sample = df['Games Played'].sample(n = 30, random_state=1)\n",
    "    statistic = max(sample.values)\n",
    "    parameter = max(games)\n",
    "    sampling_error = parameter - statistic\n",
    "    \n",
    "    return sampling_error\n",
    "\n",
    "samplingData('WNBAStats.csv')"
   ]
  },
  {
   "cell_type": "markdown",
   "metadata": {},
   "source": [
    "#  "
   ]
  },
  {
   "cell_type": "markdown",
   "metadata": {},
   "source": [
    "### Using simple random sampling, take 100 samples from our WNBA data set, and for each sample measure the average points scored by a player during the 2016-2017 season. For each of the 100 iterations of a for loop:\n",
    ">* Sample 10 values from the PTS column.\n",
    "* Compute the mean of this sample made of 10 values from the PTS column, and append the result to a list.\n",
    "* To make your results reproducible, vary the random_state parameter of the sample() method with values between 0 and 99. For the first iteration of the for loop, random_state should equal 0, for the second iteration should equal 1, for the third should equal 2, and so on."
   ]
  },
  {
   "cell_type": "code",
   "execution_count": 7,
   "metadata": {},
   "outputs": [
    {
     "data": {
      "text/plain": [
       "[145.1,\n",
       " 185.4,\n",
       " 140.4,\n",
       " 293.7,\n",
       " 172.7,\n",
       " 124.9,\n",
       " 187.8,\n",
       " 157.0,\n",
       " 188.9,\n",
       " 282.0,\n",
       " 241.5,\n",
       " 178.1,\n",
       " 157.0,\n",
       " 301.4,\n",
       " 212.9,\n",
       " 115.0,\n",
       " 135.3,\n",
       " 197.2,\n",
       " 182.5,\n",
       " 236.8,\n",
       " 145.9,\n",
       " 255.9,\n",
       " 161.2,\n",
       " 184.1,\n",
       " 213.6,\n",
       " 139.7,\n",
       " 176.3,\n",
       " 148.5,\n",
       " 118.2,\n",
       " 166.8,\n",
       " 188.3,\n",
       " 140.9,\n",
       " 182.2,\n",
       " 178.9,\n",
       " 187.1,\n",
       " 174.4,\n",
       " 126.6,\n",
       " 204.5,\n",
       " 156.0,\n",
       " 152.1,\n",
       " 193.6,\n",
       " 232.4,\n",
       " 235.1,\n",
       " 181.6,\n",
       " 230.3,\n",
       " 182.2,\n",
       " 229.4,\n",
       " 225.6,\n",
       " 203.6,\n",
       " 177.1,\n",
       " 157.4,\n",
       " 140.8,\n",
       " 147.4,\n",
       " 176.1,\n",
       " 224.5,\n",
       " 220.5,\n",
       " 132.4,\n",
       " 175.8,\n",
       " 244.3,\n",
       " 160.1,\n",
       " 244.7,\n",
       " 294.3,\n",
       " 127.1,\n",
       " 209.3,\n",
       " 173.0,\n",
       " 159.9,\n",
       " 249.9,\n",
       " 145.3,\n",
       " 144.9,\n",
       " 186.1,\n",
       " 172.9,\n",
       " 248.9,\n",
       " 137.4,\n",
       " 137.3,\n",
       " 176.0,\n",
       " 286.7,\n",
       " 258.5,\n",
       " 138.5,\n",
       " 188.5,\n",
       " 135.5,\n",
       " 178.1,\n",
       " 185.3,\n",
       " 252.0,\n",
       " 242.5,\n",
       " 253.7,\n",
       " 183.6,\n",
       " 172.7,\n",
       " 170.3,\n",
       " 148.4,\n",
       " 174.0,\n",
       " 143.9,\n",
       " 275.3,\n",
       " 152.6,\n",
       " 215.6,\n",
       " 179.8,\n",
       " 200.2,\n",
       " 177.3,\n",
       " 213.2,\n",
       " 187.2,\n",
       " 153.1]"
      ]
     },
     "execution_count": 7,
     "metadata": {},
     "output_type": "execute_result"
    }
   ],
   "source": [
    "import pandas as pd\n",
    "\n",
    "def samplingData(stats):\n",
    "    df = pd.read_csv(stats)\n",
    "    mean_list = []\n",
    "    \n",
    "    for i in range(0,100):\n",
    "        mean = 0\n",
    "        sampler = df['PTS'].sample(n = 10, random_state=i)\n",
    "        mean = sum(sampler)/len(sampler)\n",
    "        mean_list.append(mean)\n",
    "                           \n",
    "    return mean_list\n",
    "\n",
    "samplingData('WNBAStats.csv')"
   ]
  },
  {
   "cell_type": "markdown",
   "metadata": {},
   "source": [
    "#  "
   ]
  },
  {
   "cell_type": "markdown",
   "metadata": {},
   "source": [
    "### Display the discrepancy between the parameter of interest (the mean of the PTS column) and the statistics obtained in the previous step.\n",
    ">* Using plt.scatter(), display all the 100 sample means using a scatter plot. For the x-axis, use integers from 1 to 100 to designate the sample number. Use the y-axis for the sample means.\n",
    "* Using plt.axhline(), draw a horizontal line that represents the average number of points in the population.\n"
   ]
  },
  {
   "cell_type": "code",
   "execution_count": 9,
   "metadata": {},
   "outputs": [
    {
     "data": {
      "image/png": "[encoded data removed]",
      "text/plain": [
       "<Figure size 432x288 with 1 Axes>"
      ]
     },
     "metadata": {
      "needs_background": "light"
     },
     "output_type": "display_data"
    }
   ],
   "source": [
    "import matplotlib.pyplot as plt\n",
    "import matplotlib.mlab as mlab\n",
    "import numpy as np\n",
    "\n",
    "def samplingData(stats):\n",
    "    df = pd.read_csv(stats)\n",
    "    mean_list = []\n",
    "    \n",
    "    for i in range(0,100):\n",
    "        mean = 0\n",
    "        sampler = df['PTS'].sample(n = 10, random_state=i)\n",
    "        mean = sum(sampler)/len(sampler)\n",
    "        mean_list.append(mean)\n",
    "                           \n",
    "     # scatter plot\n",
    "    \n",
    "    x = np.arange(0,100)  # numbers indicating 0 to 100\n",
    "    y = mean_list  # list of 100 means\n",
    "    color = np.random.rand(len(mean_list))  # list of random colors -- each number is associated with a color\n",
    "    area = np.pi * 10   # list of random areas of circles with 10px\n",
    "    plt.scatter(x, y, s = area, c = color, alpha = 0.7)\n",
    "    plt.axhline(y = sum(mean_list)/len(mean_list), linewidth = 1.5, color = 'red')\n",
    "    plt.show()\n",
    "    \n",
    "    return\n",
    "\n",
    "samplingData('WNBAStats.csv')"
   ]
  }
 ],
 "metadata": {
  "kernelspec": {
   "display_name": "Python 3",
   "language": "python",
   "name": "python3"
  },
  "language_info": {
   "codemirror_mode": {
    "name": "ipython",
    "version": 3
   },
   "file_extension": ".py",
   "mimetype": "text/x-python",
   "name": "python",
   "nbconvert_exporter": "python",
   "pygments_lexer": "ipython3",
   "version": "3.7.1"
  }
 },
 "nbformat": 4,
 "nbformat_minor": 2
}
