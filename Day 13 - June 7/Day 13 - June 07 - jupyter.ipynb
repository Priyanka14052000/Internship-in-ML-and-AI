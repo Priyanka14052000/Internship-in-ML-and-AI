{
 "cells": [
  {
   "cell_type": "markdown",
   "metadata": {},
   "source": [
    "# Day - 13\n",
    "# Date - 07 June 2019\n",
    "# Outcomes - \n",
    ">*  Understanding K-Nearest Neighbors"
   ]
  },
  {
   "cell_type": "markdown",
   "metadata": {},
   "source": [
    "## Tasks\n",
    "* Read dc_airbnb.csv into a Dataframe named dc_listings.\n",
    "* Use the print function to display the first row in dc_listings."
   ]
  },
  {
   "cell_type": "code",
   "execution_count": 1,
   "metadata": {},
   "outputs": [
    {
     "name": "stdout",
     "output_type": "stream",
     "text": [
      "host_response_rate             92%\n",
      "host_acceptance_rate           91%\n",
      "host_listings_count             26\n",
      "city                    Washington\n",
      "state                           DC\n",
      "zipcode                      20003\n",
      "latitude                     38.89\n",
      "longitude                 -77.0028\n",
      "accommodates                     4\n",
      "bedrooms                         1\n",
      "bathrooms                        1\n",
      "beds                             2\n",
      "price                      $160.00\n",
      "security_deposit           $100.00\n",
      "cleaning_fee               $115.00\n",
      "minimum_nights                   1\n",
      "maximum_nights                1125\n",
      "number_of_reviews                0\n",
      "Name: 0, dtype: object\n"
     ]
    }
   ],
   "source": [
    "import pandas as pd\n",
    "\n",
    "dc_listings = pd.read_csv('dc_airbnb.csv').fillna(0)\n",
    "print(dc_listings.loc[0])"
   ]
  },
  {
   "cell_type": "markdown",
   "metadata": {},
   "source": [
    "#  "
   ]
  },
  {
   "cell_type": "markdown",
   "metadata": {},
   "source": [
    "## Tasks\n",
    "* Calculate the Euclidean distance between our living space, which can accommodate 3 people, and the first living space in the dc_listings Dataframe.\n",
    "* Assign the result to first_distance and display the value using the print function."
   ]
  },
  {
   "cell_type": "code",
   "execution_count": 2,
   "metadata": {},
   "outputs": [
    {
     "name": "stdout",
     "output_type": "stream",
     "text": [
      "1\n"
     ]
    }
   ],
   "source": [
    "first_distance = abs(dc_listings.iat[0,8] - 3)\n",
    "print(first_distance)"
   ]
  },
  {
   "cell_type": "markdown",
   "metadata": {},
   "source": [
    "#  "
   ]
  },
  {
   "cell_type": "markdown",
   "metadata": {},
   "source": [
    "## Tasks\n",
    "* #### Calculate the distance between each value in the accommodates column from dc_listings and the value 3, which is the number of people our listing accommodates:\n",
    "    * Use the apply method to calculate the absolute value between each value in accommodates and 3 and return a new Series containing the distance values.\n",
    "    * Assign the distance values to the distance column.\n",
    "    * Use the Series method value_counts and the print function to display the unique value counts for the distance column.\n"
   ]
  },
  {
   "cell_type": "code",
   "execution_count": 3,
   "metadata": {},
   "outputs": [
    {
     "name": "stdout",
     "output_type": "stream",
     "text": [
      "1     2294\n",
      "2      503\n",
      "0      461\n",
      "3      279\n",
      "5       73\n",
      "4       35\n",
      "7       22\n",
      "6       17\n",
      "9       12\n",
      "13       8\n",
      "8        7\n",
      "12       6\n",
      "11       4\n",
      "10       2\n",
      "Name: accommodates, dtype: int64\n"
     ]
    }
   ],
   "source": [
    "def distanceCal(num):\n",
    "    return abs(num-3)\n",
    "\n",
    "distance = dc_listings['accommodates'].apply(distanceCal)\n",
    "\n",
    "dc_listings['distance'] = distance\n",
    "dc_listings.to_csv('dc_listings.csv')\n",
    "\n",
    "print(distance.value_counts())"
   ]
  },
  {
   "cell_type": "markdown",
   "metadata": {},
   "source": [
    "#  "
   ]
  },
  {
   "cell_type": "markdown",
   "metadata": {},
   "source": [
    "## Tasks\n",
    "* #### Randomize the order of the rows in dc_listings:\n",
    "    * Use the np.random.permutation() function to return a NumPy array of shuffled index values.\n",
    "    * Use the Dataframe method loc[] to return a new Dataframe containing the shuffled order.\n",
    "    * Assign the new Dataframe back to dc_listings.\n",
    "* #### After randomization, sort dc_listings by the distance column.\n",
    "* #### Display the first 10 values in the price column using the print function."
   ]
  },
  {
   "cell_type": "code",
   "execution_count": 4,
   "metadata": {},
   "outputs": [
    {
     "name": "stdout",
     "output_type": "stream",
     "text": [
      "        0     1    2                 3   4      5        6        7   8  9   \\\n",
      "0      94%   89%    1        Washington  DC  20024  38.8807 -77.0148   2  1   \n",
      "1      92%   67%    1     Silver Spring  MD  20910  38.9964 -77.0415   4  1   \n",
      "2      90%   50%    1        Washington  DC  20037   38.902 -77.0551   2  1   \n",
      "3        0     0    3        Washington  DC  20002  38.8986  -76.997   4  2   \n",
      "4      90%  100%    3        Washington  DC  20001  38.9149 -77.0172   4  1   \n",
      "5     100%  100%    1        Washington  DC  20011  38.9402 -77.0185   2  1   \n",
      "6     100%  100%    1        Washington  DC  20009  38.9221  -77.047   2  1   \n",
      "7      83%  100%    1        Washington  DC  20010  38.9362 -77.0279   2  1   \n",
      "8     100%     0    1        Washington  DC  20018  38.9285 -76.9571   1  1   \n",
      "9      93%   96%    2        Washington  DC  20001  38.9085 -77.0256   6  1   \n",
      "10    100%  100%    1        Washington  DC  20001  38.9099 -77.0218   2  0   \n",
      "11       0     0    1        Washington  DC  20009  38.9344 -77.0399   4  1   \n",
      "12       0     0    1        Washington  DC  20017  38.9411  -76.993   6  2   \n",
      "13    100%   75%    2        Washington  DC  20002   38.922 -77.0017   4  1   \n",
      "14    100%  100%    1        Washington  DC  20009  38.9189  -77.032   2  1   \n",
      "15     93%   77%    2        Washington  DC  20009  38.9205 -77.0472   2  1   \n",
      "16    100%   95%    5        Washington  DC  20010  38.9323 -77.0388   2  1   \n",
      "17    100%  100%    1        Washington  DC  20009  38.9155 -77.0414   2  1   \n",
      "18    100%  100%    1        Washington  DC  20003  38.8885 -76.9854   9  4   \n",
      "19       0     0    1        Washington  DC  20010  38.9328 -77.0293   1  1   \n",
      "20    100%   80%    2        Washington  DC  20009  38.9138 -77.0421   2  0   \n",
      "21     91%  100%    4        Washington  DC  20009  38.9161 -77.0304   2  1   \n",
      "22     97%   88%    4        Washington  DC  20001  38.9103 -77.0111   1  1   \n",
      "23    100%  100%    2        Washington  DC  20009  38.9206 -77.0397   1  1   \n",
      "24     92%   76%  206        Washington  DC  20037  38.9017 -77.0491   5  2   \n",
      "25     80%  100%    2  Washington, D.C.  DC  20001  38.9186 -77.0151   2  1   \n",
      "26       0  100%    1        Washington  DC  20003  38.8808 -76.9939   4  2   \n",
      "27    100%   91%    1        Washington  DC  20011  38.9388 -77.0191   2  1   \n",
      "28     92%   99%   23        Washington  DC  20009  38.9157 -77.0382   2  1   \n",
      "29     92%   99%   23        Washington  DC  20009  38.9164 -77.0384   2  1   \n",
      "...    ...   ...  ...               ...  ..    ...      ...      ...  .. ..   \n",
      "3693   67%  100%    1        Washington  DC  20011  38.9658 -77.0346   2  1   \n",
      "3694  100%   50%    2        Washington  DC  20006   38.898 -77.0468   2  1   \n",
      "3695   90%   75%    1        Washington  DC  20024  38.8749 -77.0184   2  1   \n",
      "3696  100%   95%    5        Washington  DC  20001  38.9116 -77.0222  10  3   \n",
      "3697  100%  100%    1        Washington  DC  20011  38.9444 -77.0218   2  1   \n",
      "3698   90%   73%    2        Washington  DC  20008  38.9315 -77.0558   2  1   \n",
      "3699   80%  100%    1        Washington  DC  20005  38.9095 -77.0327   6  2   \n",
      "3700  100%  100%    2        Washington  DC  20011  38.9456 -77.0181   3  1   \n",
      "3701  100%  100%    1        Washington  DC  20002  38.8967 -76.9904   4  1   \n",
      "3702   58%   51%  480        Washington  DC  20037  38.9074 -77.0519   2  1   \n",
      "3703  100%  100%    1       Hyattsville  MD  20782  38.9618 -76.9939   1  1   \n",
      "3704  100%  100%    1        Washington  DC  20009  38.9168 -77.0394   4  1   \n",
      "3705   97%  100%    3        Washington  DC  20002  38.9021 -76.9896   3  1   \n",
      "3706   90%   94%    1        Washington  DC  20011  38.9488 -77.0156   4  1   \n",
      "3707  100%  100%    1        Washington  DC  20009  38.9248 -77.0415   2  1   \n",
      "3708  100%    0%    1        Washington  DC  20009  38.9256  -77.041   3  2   \n",
      "3709     0     0    1        Washington  DC  20009  38.9151 -77.0381   1  1   \n",
      "3710   63%  100%    2        Washington  DC  20009  38.9162 -77.0428   2  1   \n",
      "3711   50%   50%    1        Washington  DC  20036  38.9057  -77.046   4  1   \n",
      "3712  100%  100%    1        Washington  DC  20010  38.9314 -77.0352   6  3   \n",
      "3713   90%   60%    1        Washington  DC  20002  38.9022 -76.9884   2  1   \n",
      "3714  100%  100%    2        Washington  DC  20017  38.9365 -76.9956   2  1   \n",
      "3715   58%   51%  480        Washington  DC  20037  38.8998 -77.0518   3  1   \n",
      "3716     0     0    1        Washington  DC  20007  38.9123 -77.0607   6  3   \n",
      "3717   93%   98%    2  Washington, D.C.  DC  20001    38.91  -77.011   3  1   \n",
      "3718  100%    0%    1        Washington  DC  20015  38.9615 -77.0645   8  5   \n",
      "3719  100%   80%    2        Washington  DC  20009  38.9164 -77.0396   2  1   \n",
      "3720  100%     0    1        Washington  DC  20002  38.9113 -76.9867   4  1   \n",
      "3721     0     0    1        Washington  DC  20019  38.9031 -76.9497   2  1   \n",
      "3722   90%   86%    1        Washington  DC  20002  38.9055 -77.0059   3  1   \n",
      "\n",
      "       10 11       12         13       14  15    16  17 18  \n",
      "0       1  1   $80.00          0   $10.00   1  1125  11  1  \n",
      "1       1  1   $50.00    $450.00   $15.00   7  1125   0  1  \n",
      "2       1  1  $109.00          0   $30.00   2  1125   0  1  \n",
      "3     2.5  2  $300.00          0   $35.00   1  1125   0  1  \n",
      "4       1  2   $88.00    $100.00  $100.00   3    10  11  1  \n",
      "5       1  1   $63.00          0   $11.00   1     7  10  1  \n",
      "6       1  1  $159.00    $300.00   $75.00   3   180  12  1  \n",
      "7     1.5  1   $75.00    $100.00   $10.00   1  1125   1  1  \n",
      "8       1  1   $85.00          0        0   1  1125   3  2  \n",
      "9       1  3   $79.00          0        0   1   365  69  3  \n",
      "10      1  1  $100.00          0        0   1  1125   0  1  \n",
      "11      1  2  $143.00          0   $55.00   1    60  32  1  \n",
      "12      1  3  $299.00          0        0   3     4   0  3  \n",
      "13      1  2   $90.00          0   $20.00   1  1125   3  1  \n",
      "14      1  1  $135.00  $1,000.00   $90.00  21    90   1  1  \n",
      "15      1  1  $130.00          0   $40.00   2    15   4  1  \n",
      "16      1  1   $69.00          0   $29.00   1  1125   3  1  \n",
      "17      1  1  $100.00          0        0   1  1125  10  1  \n",
      "18      2  7  $300.00    $200.00  $105.00   2  1125  30  6  \n",
      "19    0.5  1   $45.00          0        0   1  1125   3  2  \n",
      "20      1  1  $113.00  $2,300.00  $100.00   7  1125   2  1  \n",
      "21      1  1   $65.00          0        0   1  1125  31  1  \n",
      "22    1.5  1   $68.00    $200.00   $15.00   1  1125  27  2  \n",
      "23      1  1   $79.00    $200.00   $25.00   3    28   1  2  \n",
      "24      2  3  $324.00          0  $100.00   3  1125   5  2  \n",
      "25    1.5  1   $75.00          0   $25.00   2    45   8  1  \n",
      "26      1  2  $250.00  $1,000.00   $75.00   2  1125   1  1  \n",
      "27      1  1   $60.00    $500.00   $60.00   2  1125  10  1  \n",
      "28      1  1   $95.00          0        0   1  1125  15  1  \n",
      "29      1  1  $120.00          0        0   1  1125   6  1  \n",
      "...   ... ..      ...        ...      ...  ..   ...  .. ..  \n",
      "3693    1  1   $45.00          0   $25.00   1     7   1  1  \n",
      "3694    1  1  $110.00          0        0   2     7   0  1  \n",
      "3695    1  1   $69.00          0        0   3  1125   6  1  \n",
      "3696    3  6  $450.00          0  $100.00   2  1125   6  7  \n",
      "3697    1  1  $115.00          0        0   2    25  31  1  \n",
      "3698    1  1   $90.00    $250.00   $25.00   3    10   7  1  \n",
      "3699    2  3  $372.00          0   $80.00   3  1125  33  3  \n",
      "3700  1.5  1   $75.00          0   $50.00   1  1125   3  0  \n",
      "3701    1  1   $98.00    $300.00   $30.00   2  1125   1  1  \n",
      "3702    1  1  $259.00          0        0   4   730   1  1  \n",
      "3703    1  1   $23.00          0    $5.00   1  1125   1  2  \n",
      "3704    1  2  $180.00    $100.00   $40.00   2  1125   1  1  \n",
      "3705    1  1   $75.00    $500.00   $30.00   1  1125  12  0  \n",
      "3706    1  3   $70.00          0   $30.00   2    35  62  1  \n",
      "3707  1.5  1  $100.00          0        0   1  1125   3  1  \n",
      "3708    2  1  $150.00          0        0   1  1125   0  0  \n",
      "3709    2  1  $100.00          0        0   2  1125  11  2  \n",
      "3710    1  1   $75.00          0        0   2  1125   0  1  \n",
      "3711  1.5  1  $120.00          0        0   4   365   3  1  \n",
      "3712  1.5  4  $126.00  $2,500.00  $120.00   1  1125   3  3  \n",
      "3713    2  1   $70.00          0        0   2  1125  14  1  \n",
      "3714    1  1   $55.00          0        0   2   150  19  1  \n",
      "3715    1  1  $289.00          0        0   4  1125   0  0  \n",
      "3716    3  3  $650.00          0   $80.00   3  1125   0  3  \n",
      "3717    1  2  $110.00          0   $45.00   1  1125  39  0  \n",
      "3718  3.5  4  $150.00          0        0   1  1125   0  5  \n",
      "3719    1  1   $75.00          0        0   1  1125   3  1  \n",
      "3720    1  2   $95.00          0        0   1  1125   0  1  \n",
      "3721    1  1  $175.00          0        0   1    30   1  1  \n",
      "3722    1  1  $160.00          0   $25.00   1  1125   6  0  \n",
      "\n",
      "[3723 rows x 19 columns]\n",
      "0     $10.00\n",
      "1     $15.00\n",
      "2     $30.00\n",
      "3     $35.00\n",
      "4    $100.00\n",
      "5     $11.00\n",
      "6     $75.00\n",
      "7     $10.00\n",
      "8          0\n",
      "9          0\n",
      "Name: 14, dtype: object\n"
     ]
    }
   ],
   "source": [
    "import numpy as np\n",
    "\n",
    "dataframe = np.random.permutation(dc_listings)\n",
    "new_df = pd.DataFrame(dataframe)\n",
    "print(new_df.loc[:])\n",
    "dc_listings = new_df\n",
    "\n",
    "dc_listings.to_csv('dc_listings.csv')\n",
    "\n",
    "sort_distance = sorted(dc_listings[18].values)\n",
    "\n",
    "print(dc_listings[14].head(10))"
   ]
  }
 ],
 "metadata": {
  "kernelspec": {
   "display_name": "Python 3",
   "language": "python",
   "name": "python3"
  },
  "language_info": {
   "codemirror_mode": {
    "name": "ipython",
    "version": 3
   },
   "file_extension": ".py",
   "mimetype": "text/x-python",
   "name": "python",
   "nbconvert_exporter": "python",
   "pygments_lexer": "ipython3",
   "version": "3.7.1"
  }
 },
 "nbformat": 4,
 "nbformat_minor": 2
}
