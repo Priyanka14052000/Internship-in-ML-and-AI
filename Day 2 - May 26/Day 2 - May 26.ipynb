{
 "cells": [
  {
   "cell_type": "markdown",
   "metadata": {},
   "source": [
    "# Day - 2\n",
    "# Date - 26 May 2019\n",
    "# Day Outcomes:\n",
    "1. Data Analysis of Mobile apps data"
   ]
  },
  {
   "cell_type": "markdown",
   "metadata": {},
   "source": [
    "# Tasks:\n",
    "\n",
    ">* Compute the total number of unique apps from the dataset\n",
    "* Print the Top 10 apps along with their rating based on the number of downloads(rating_count_tot)\n",
    "* Categorise the dataset based on content rating into the following:\n",
    ">>* Number of apps with content rating 4+\n",
    ">>* Number of apps with content rating 9+\n",
    ">>* Number of apps with content rating 12+\n",
    ">>* Number of apps with content rating 17+"
   ]
  },
  {
   "cell_type": "code",
   "execution_count": 1,
   "metadata": {},
   "outputs": [
    {
     "name": "stdout",
     "output_type": "stream",
     "text": [
      "Unique apps:  7195\n",
      "\n",
      "Top 10 apps with the most downloads:\n",
      "['Facebook', 'Instagram', 'Clash of Clans', 'Temple Run', 'Pandora - Music & Radio', 'Pinterest', 'Bible', 'Candy Crush Saga', 'Spotify Music', 'Angry Birds']\n",
      "\n",
      "Number of apps with content rating 4+ :  4433\n",
      "Number of apps with content rating 9+ :  987\n",
      "Number of apps with content rating 12+ :  1155\n",
      "Number of apps with content rating 17+ :  622\n"
     ]
    },
    {
     "data": {
      "text/plain": [
       "0.4780411830000002"
      ]
     },
     "execution_count": 1,
     "metadata": {},
     "output_type": "execute_result"
    }
   ],
   "source": [
    "import pandas as pd\n",
    "import numpy as np\n",
    "import timeit\n",
    "\n",
    "def generateAppsReport(AppData):\n",
    "    start = timeit.default_timer()\n",
    "    apps, unique_apps, downloads, cont_rating = [], [], [], []\n",
    "    app4, app9, app12, app17, serial, raw_serial = [], [], [], [], [], []\n",
    "    df = pd.read_csv(AppData)\n",
    "    \n",
    "    for i in df.values:\n",
    "        apps.append(i[2])\n",
    "        downloads.append(i[6])\n",
    "        cont_rating.append(i[11])\n",
    "        \n",
    "    unique_apps, freq = np.unique(apps,return_counts = True)  \n",
    "    print('Unique apps: ', len(unique_apps), end = '\\n\\n')\n",
    "            \n",
    "    index = np.argsort(downloads)\n",
    "    \n",
    "    for i in index:\n",
    "        raw_serial.append(df.iat[i,2])\n",
    "        \n",
    "    serial = raw_serial[len(serial)-1:len(serial)-11:-1]\n",
    "    \n",
    "    for i in range(0, len(cont_rating)):\n",
    "        if df.iat[i,11] == '4+':\n",
    "            app4.append(df.iat[i,2])\n",
    "            \n",
    "        if df.iat[i,11] == '9+':\n",
    "            app9.append(df.iat[i,2])\n",
    "            \n",
    "        if df.iat[i,11] == '12+':\n",
    "            app12.append(df.iat[i,2])\n",
    "            \n",
    "        if df.iat[i,11] == '17+':\n",
    "            app17.append(df.iat[i,2])    \n",
    "        \n",
    "    print('Top 10 apps with the most downloads:')\n",
    "    print(serial, end = '\\n\\n')\n",
    "    print('Number of apps with content rating 4+ : ', len(app4))\n",
    "    print('Number of apps with content rating 9+ : ', len(app9))\n",
    "    print('Number of apps with content rating 12+ : ', len(app12))\n",
    "    print('Number of apps with content rating 17+ : ', len(app17))\n",
    "    \n",
    "    return timeit.default_timer() - start\n",
    "\n",
    "generateAppsReport('AppleStore1.csv')"
   ]
  },
  {
   "cell_type": "code",
   "execution_count": null,
   "metadata": {},
   "outputs": [],
   "source": []
  }
 ],
 "metadata": {
  "kernelspec": {
   "display_name": "Python 3",
   "language": "python",
   "name": "python3"
  },
  "language_info": {
   "codemirror_mode": {
    "name": "ipython",
    "version": 3
   },
   "file_extension": ".py",
   "mimetype": "text/x-python",
   "name": "python",
   "nbconvert_exporter": "python",
   "pygments_lexer": "ipython3",
   "version": "3.7.1"
  }
 },
 "nbformat": 4,
 "nbformat_minor": 2
}
