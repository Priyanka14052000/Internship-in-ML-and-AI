{
 "cells": [
  {
   "cell_type": "markdown",
   "metadata": {},
   "source": [
    "# Day - 14\n",
    "# Date - 08 June 2019\n",
    "# Outcomes - \n",
    ">*  Understanding Machine Learning concepts"
   ]
  },
  {
   "cell_type": "markdown",
   "metadata": {},
   "source": [
    "### Data  - Continuous and Discrete"
   ]
  },
  {
   "cell_type": "markdown",
   "metadata": {},
   "source": [
    "#### 1. Continuous Data:\n",
    "* Continuous data comes from measuring and can take any value within a given range. It contains decimal value.\n",
    "* <b>Examples</b>: weight of a banana(1.2 kg, 1.5kg), time(1hour 25 mins), height(6.3inc, 5.4inc, 5.9inc), distance(1.4 km, 2.5km), etc.\n",
    "\n",
    "#### 2. Discrete Data:\n",
    "* Discrete data, also called as categorical data. Discrete data can be numerical or categorical.\n",
    "* <b>Examples</b>: shoe size(6,8,10), number of students in a class, number of products in a box, etc."
   ]
  },
  {
   "cell_type": "markdown",
   "metadata": {},
   "source": [
    "### There are many alias names for input  and output variables\n",
    "1. <b>Input  variables</b>: predictor variable, independent variable, feature variable, explanatory variable\n",
    "2. <b>Output variables</b>: criterion variable, dependent variable, target variable, scalar variable"
   ]
  },
  {
   "cell_type": "markdown",
   "metadata": {},
   "source": [
    "### Types of Machine Learning Algorithms\n",
    "1. <b>Supervised Learning</b> : The human experts acts as the teacher where we feed the computer with training data containing the input/predictors and we show it the correct answers (output) and from the data the computer should be able to learn the patterns.\n",
    "2. <b>Unsupervised Learning</b> : The computer is trained with unlabeled data. Here there’s no teacher at all, the computer might be able to teach you new things after it learns patterns in data, these algorithms a particularly useful in cases where the human expert doesn’t know what to look for in the data."
   ]
  },
  {
   "cell_type": "markdown",
   "metadata": {},
   "source": [
    "### Regression Analysis\n",
    "* Regression is a statistical process for estimating the relationships among variables. Its focus is on the relationship between a dependent variable and one or more independent variables. It is a linear approach to modelling the relationship between an input variable and output variable. More specifically, regression analysis helps one understand how the typical value of the dependent variable  changes when any one of the independent variables is varied, while the other independent variables are held fixed.\n",
    "* Regression technique is supervised learning which is used to predict real values like salary (dependent variable) for example with experience (independent variable). "
   ]
  },
  {
   "cell_type": "markdown",
   "metadata": {},
   "source": [
    "### Regression models - Linear Regression and Logistic Regression\n",
    "* When the output variable is continuous in nature, <b>Linear Regression</b> is used \n",
    "* When the output variable is dicrete in nature, <b>Logistic Regression</b> is used"
   ]
  },
  {
   "cell_type": "markdown",
   "metadata": {},
   "source": [
    "### Linear Regression - Simple Linear Regression and Multiple Linear Regression\n",
    "* #### Simple Linear regression : \n",
    "    * If the dependent variable(output) is continuous and if we have only one input variable(continuous or discrete), then we use the SLR\n",
    "    * It measures the relationship between one input variable and the output variable( can be called as one-to-one relationship)\n",
    "    * It looks for a statistical relationship between the variables, but not for the deterministic relationship. Relationship between two variables is said to be deterministic if one variable can be accurately expressed by the other. <b>Ex</b>: using temperature in degree Celcius it is possible to predict accurately temperature in degree Fahrenheit.\n",
    "    * Statistical relationship is not accurate in determining the relationship between two variables. Ex: relationship between height and weight\n",
    "    * The core idea is to obtain a line that best fits the data. The best line is the one for which the total prediction errors are as small as possible. Error  is the distance between the data points to the Regression Line.It will square the individual errors  and sum up all the errors and try to minimize those. Whichever line has the minimum error, that will be chosen as the best fit line.\n",
    "    * <b>Equation of SLR</b> :  y = b0 + b1x + E\n",
    "    * From the above equation, y is the dependent variable and x is the independent variable\n",
    "    * In SLR b0 indicates intercept and b1 is the coefficient which determines how a unit change in x will cause a change in y\n",
    "    * E(epsilon) is the error part(distance between the data)\n",
    "    * <b>Evaluating the SLR's  performance :</b>\n",
    "        * R-squared value is used to measure the performance of the Linear Regression model. It is also called as coefficient of determination. R-squared measures the strength of the relationship between your model and the dependent variable on a convenient 0 – 100% scale.\n",
    "        * It represents the percentage variation in output explained by the input variables. (or) \n",
    "        * Percentage of response variable variation that is explained by its relationship with one or more predictor variables.\n",
    "        * R-squared value lies in between  0-100%. Higher the R-squared value, the better the model fits your data.\n",
    "        * R-squared value >0.85 indicates it as a good model.\n",
    "        * R-squared value lies between 0.65 and 0.8 indicates it as a moderate  model.\n",
    "        * R-squared value <0.65 indicates it as a weak model\n",
    "        * but we cannot completely rely on this R-squared value. \n",
    "\n",
    "* #### Multiple Linear Regression : \n",
    "    * If the dependent variable(output) is continuous and if we have more than one input variable(continuous or discrete), then we use the MLR\n",
    "    * It measures the relationship between all the  input variables and the output variable( can be called as many-to-one relationship)\n",
    "    * <b>Equation of MLR</b> : y = b0 + b1x1 +b2x2 + b3x3+ ........... +bnxn\n",
    "    * In MLR, b0 indicates intercept and b1, b2, b3,.....bn  are the coefficients which determines how a unit change in x will cause a change in y, n indicates number of variables\n",
    "\n"
   ]
  },
  {
   "cell_type": "markdown",
   "metadata": {},
   "source": [
    "### Logistic Regression - Simple Logistic Regression and Multiple Logistic Regression"
   ]
  },
  {
   "cell_type": "code",
   "execution_count": null,
   "metadata": {},
   "outputs": [],
   "source": []
  }
 ],
 "metadata": {
  "kernelspec": {
   "display_name": "Python 3",
   "language": "python",
   "name": "python3"
  },
  "language_info": {
   "codemirror_mode": {
    "name": "ipython",
    "version": 3
   },
   "file_extension": ".py",
   "mimetype": "text/x-python",
   "name": "python",
   "nbconvert_exporter": "python",
   "pygments_lexer": "ipython3",
   "version": "3.7.1"
  }
 },
 "nbformat": 4,
 "nbformat_minor": 2
}
