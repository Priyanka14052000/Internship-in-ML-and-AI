{
 "cells": [
  {
   "cell_type": "markdown",
   "metadata": {},
   "source": [
    "# Day - 7\n",
    "# Date - 31 May 2019\n",
    "# Outcomes - \n",
    ">* To analyse cricket data sets using Object Oriented Approach"
   ]
  },
  {
   "cell_type": "markdown",
   "metadata": {},
   "source": [
    "##   "
   ]
  },
  {
   "cell_type": "markdown",
   "metadata": {},
   "source": [
    "## Task 1 : How many runs of  Dhoni On 4/23/2008  Chennai Super Kings vs Mumbai Indians Match"
   ]
  },
  {
   "cell_type": "code",
   "execution_count": 1,
   "metadata": {},
   "outputs": [
    {
     "name": "stdout",
     "output_type": "stream",
     "text": [
      "Total number of runs of MS.Dhoni on 4/23/2008 during \"Chennai Super Kings vs Mumbai Indians\" Match :  32\n"
     ]
    }
   ],
   "source": [
    "import pandas as pd\n",
    "import numpy as np\n",
    "\n",
    "class dhoniRuns():\n",
    "    def __init__(self, ballData):\n",
    "        #reading the file\n",
    "        self.df = pd.read_csv(ballData)\n",
    "        \n",
    "    def generateDhoniRuns(self):\n",
    "        # collecting the data for ms.dhoni\n",
    "        no_runs = [(self.df.iat[i,8]) for i in range(0, len(self.df)) if self.df.iat[i,0] == 335994 if self.df.iat[i,34] == 12862]\n",
    "        \n",
    "        for i in range(0, len(self.df)):\n",
    "            if self.df.iat[i,0] == 335994:\n",
    "                if self.df.iat[i,34] == 12862:\n",
    "                    no_runs.append(self.df.iat[i,9])\n",
    "                    \n",
    "        print('Total number of runs of MS.Dhoni on 4/23/2008 during \"Chennai Super Kings vs Mumbai Indians\" Match : ', sum(no_runs))\n",
    "        return\n",
    "\n",
    "runs = dhoniRuns('Ball_By_Ball.csv')\n",
    "runs.generateDhoniRuns()"
   ]
  },
  {
   "cell_type": "markdown",
   "metadata": {},
   "source": [
    "##  "
   ]
  },
  {
   "cell_type": "markdown",
   "metadata": {},
   "source": [
    "## Task 2 : From 4/23/2008  Chennai Super Kings vs Mumbai Indians Match: \n",
    "    Plot a bar graph for all the players in the 'Mumbai Indians' team"
   ]
  },
  {
   "cell_type": "code",
   "execution_count": 3,
   "metadata": {},
   "outputs": [
    {
     "data": {
      "image/png": "[encoded data removed]",
      "text/plain": [
       "<Figure size 432x288 with 1 Axes>"
      ]
     },
     "metadata": {
      "needs_background": "light"
     },
     "output_type": "display_data"
    }
   ],
   "source": [
    "import pandas as pd\n",
    "import numpy as np\n",
    "import matplotlib.pyplot as plt\n",
    "\n",
    "class MumbaiIndians():\n",
    "    def __init__(self, ballData):\n",
    "        # reading the file\n",
    "        self.df = pd.read_csv(ballData)\n",
    "        \n",
    "    def generateBarGraph(self):\n",
    "        # collecting the data for mumbai indians team\n",
    "        players = [self.df.iat[i,4] for i in range(0, len(self.df)) if self.df.iat[i,2] == 335994 if self.df.iat[i,10] == 'Mumbai Indians']\n",
    "        \n",
    "        # generating bar graph with the collected data\n",
    "        width = 1/2\n",
    "        plt.title(\"Mumbai Indians' Team\")\n",
    "        plt.bar(players, width, color = 'gray')\n",
    "        plt.xticks(players, fontsize = 9, rotation = 30)\n",
    "        return\n",
    "\n",
    "runs = MumbaiIndians('Player_match.csv')\n",
    "runs.generateBarGraph()"
   ]
  }
 ],
 "metadata": {
  "kernelspec": {
   "display_name": "Python 3",
   "language": "python",
   "name": "python3"
  },
  "language_info": {
   "codemirror_mode": {
    "name": "ipython",
    "version": 3
   },
   "file_extension": ".py",
   "mimetype": "text/x-python",
   "name": "python",
   "nbconvert_exporter": "python",
   "pygments_lexer": "ipython3",
   "version": "3.7.1"
  }
 },
 "nbformat": 4,
 "nbformat_minor": 2
}
