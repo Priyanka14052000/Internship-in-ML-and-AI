{
 "cells": [
  {
   "cell_type": "markdown",
   "metadata": {},
   "source": [
    "# Day - 4\n",
    "# Date - 28 May 2019\n",
    "# Outcomes - \n",
    ">* To analyse cricket data sets"
   ]
  },
  {
   "cell_type": "markdown",
   "metadata": {},
   "source": [
    "## Task 1 : Print no. of matches won by each team based on year wise (each year as one column)"
   ]
  },
  {
   "cell_type": "code",
   "execution_count": 1,
   "metadata": {},
   "outputs": [
    {
     "name": "stdout",
     "output_type": "stream",
     "text": [
      "                          Teams  2008  2009  2010  2011  2012  2013  2014  \\\n",
      "0           Chennai Super Kings     9     8     9    11    10    12    10   \n",
      "1               Deccan Chargers     2     9     8     6     4     0     0   \n",
      "2              Delhi Daredevils     7    10     7     4    11     3     2   \n",
      "3                 Gujarat Lions     0     0     0     0     0     0     0   \n",
      "4               Kings XI Punjab    10     7     4     7     8     8    12   \n",
      "5          Kochi Tuskers Kerala     0     0     0     6     0     0     0   \n",
      "6         Kolkata Knight Riders     6     3     7     8    12     6    11   \n",
      "7                Mumbai Indians     7     5    11    10    10    13     7   \n",
      "8                 Pune Warriors     0     0     0     4     4     4     0   \n",
      "9              Rajasthan Royals    13     6     6     0     7    11     7   \n",
      "10      Rising Pune Supergiants     0     0     0     0     0     0     0   \n",
      "11  Royal Challengers Bangalore     4     9     8     0     0     9     5   \n",
      "12          Sunrisers Hyderabad     0     0     0     0     0     0     6   \n",
      "\n",
      "    2015  2016  2017  \n",
      "0     10     0     0  \n",
      "1      0     0     0  \n",
      "2      5     7     6  \n",
      "3      0     9     4  \n",
      "4      3     4     7  \n",
      "5      0     0     0  \n",
      "6      7     8     9  \n",
      "7     10     7    11  \n",
      "8      0     0     0  \n",
      "9      7     0     0  \n",
      "10     0     5    10  \n",
      "11     8     9     3  \n",
      "12     7    11     8  \n"
     ]
    },
    {
     "data": {
      "text/plain": [
       "0.09086113100000004"
      ]
     },
     "execution_count": 1,
     "metadata": {},
     "output_type": "execute_result"
    }
   ],
   "source": [
    "import timeit\n",
    "import pandas as pd\n",
    "import numpy as np\n",
    "\n",
    "def generateCricketInfo(matchData):\n",
    "    start = timeit.default_timer()\n",
    "    df = pd.read_csv(matchData)\n",
    "    \n",
    "    win_2008, win_2009, win_2010, win_2011 = [], [], [], []\n",
    "    win_2012, win_2013,win_2014, win_2015 = [], [], [], []\n",
    "    win_2016, win_2017 = [], []\n",
    "\n",
    "    team1 = [df['Team1'].values]\n",
    "    team, count = np.unique(team1, return_counts = True) \n",
    "\n",
    "    winner = np.unique(list(df['match_winner'].values))\n",
    "    #print(winner)\n",
    "    \n",
    "    team_8, win_8 = np.unique([df.iat[i,10] for i in range(0, len(df)) if df.iat[i,5] == 2008], return_counts = True)\n",
    "    team_9, win_9 = np.unique([df.iat[i,10] for i in range(0, len(df)) if df.iat[i,5] == 2009], return_counts = True)\n",
    "    team_10, win_10 = np.unique([df.iat[i,10] for i in range(0, len(df)) if df.iat[i,5] == 2010], return_counts = True)\n",
    "    team_11, win_11 = np.unique([df.iat[i,10] for i in range(0, len(df)) if df.iat[i,5] == 2011], return_counts = True)\n",
    "    team_12, win_12 = np.unique([df.iat[i,10] for i in range(0, len(df)) if df.iat[i,5] == 2012], return_counts = True)\n",
    "    team_13, win_13 = np.unique([df.iat[i,10] for i in range(0, len(df)) if df.iat[i,5] == 2013], return_counts = True)\n",
    "    team_14, win_14 = np.unique([df.iat[i,10] for i in range(0, len(df)) if df.iat[i,5] == 2014], return_counts = True)\n",
    "    team_15, win_15 = np.unique([df.iat[i,10] for i in range(0, len(df)) if df.iat[i,5] == 2015], return_counts = True)\n",
    "    team_16, win_16 = np.unique([df.iat[i,10] for i in range(0, len(df)) if df.iat[i,5] == 2016], return_counts = True)\n",
    "    team_17, win_17 = np.unique([df.iat[i,10] for i in range(0, len(df)) if df.iat[i,5] == 2017], return_counts = True)\n",
    "\n",
    "    win_2008 = [0 for i in range(0, len(team))]\n",
    "    win_2009 = [0 for i in range(0, len(team))]\n",
    "    win_2010 = [0 for i in range(0, len(team))]\n",
    "    win_2011 = [0 for i in range(0, len(team))]\n",
    "    win_2012 = [0 for i in range(0, len(team))]\n",
    "    win_2013 = [0 for i in range(0, len(team))]\n",
    "    win_2014 = [0 for i in range(0, len(team))]\n",
    "    win_2015 = [0 for i in range(0, len(team))]\n",
    "    win_2016 = [0 for i in range(0, len(team))]\n",
    "    win_2017 = [0 for i in range(0, len(team))]\n",
    "    \n",
    "    for i in range(0, len(team)):\n",
    "        for j in range(0, len(team_8)):\n",
    "            if(team[i] == team_8[j]):\n",
    "                win_2008[i] = win_8[j] \n",
    "            if(team[i] == team_9[j]):\n",
    "                win_2009[i] = win_9[j]\n",
    "            if(team[i] == team_10[j]):\n",
    "                win_2010[i] = win_10[j]\n",
    "            if(team[i] == team_11[j]):\n",
    "                win_2011[i] = win_11[j]\n",
    "            if(team[i] == team_12[j]):\n",
    "                win_2012[i] = win_12[j]\n",
    "            if(team[i] == team_13[j]):\n",
    "                win_2013[i] = win_13[j]\n",
    "            if(team[i] == team_14[j]):\n",
    "                win_2014[i] = win_14[j]\n",
    "            if(team[i] == team_15[j]):\n",
    "                win_2015[i] = win_15[j]\n",
    "            if(team[i] == team_16[j]):\n",
    "                win_2016[i] = win_16[j]\n",
    "            if(team[i] == team_17[j]):\n",
    "                win_2017[i] = win_17[j]\n",
    "                \n",
    "    wins_years = {'Teams' : team, '2008' : win_2008, '2009' : win_2009, '2010' : win_2010, \n",
    "                 '2011' : win_2011, '2012' : win_2012, '2013' : win_2013, '2014' : win_2014,\n",
    "                 '2015' : win_2015, '2016' : win_2016, '2017' : win_2017}\n",
    "    \n",
    "    dataframe = pd.DataFrame(wins_years)\n",
    "    print(dataframe)\n",
    "    \n",
    "    return timeit.default_timer() - start\n",
    "generateCricketInfo('Match.csv')"
   ]
  },
  {
   "cell_type": "markdown",
   "metadata": {},
   "source": [
    "#  "
   ]
  },
  {
   "cell_type": "markdown",
   "metadata": {},
   "source": [
    "## Task 2 : Print man of the match count of each player in Hyderabad Stadium"
   ]
  },
  {
   "cell_type": "code",
   "execution_count": 2,
   "metadata": {},
   "outputs": [
    {
     "name": "stdout",
     "output_type": "stream",
     "text": [
      "Man of the match in Hyderabad: \n",
      "\n",
      "('A Mishra', 2)\n",
      "('AB Dinda', 1)\n",
      "('AT Rayudu', 1)\n",
      "('B Kumar', 2)\n",
      "('CH Morris', 1)\n",
      "('DA Warner', 7)\n",
      "('DJ Bravo', 1)\n",
      "('DJG Sammy', 1)\n",
      "('DW Steyn', 3)\n",
      "('G Gambhir', 1)\n",
      "('GH Vihari', 2)\n",
      "('I Sharma', 1)\n",
      "('JD Unadkat', 1)\n",
      "('KH Pandya', 1)\n",
      "('KS Williamson', 1)\n",
      "('MJ McClenaghan', 1)\n",
      "('MR Marsh', 1)\n",
      "('Mandeep Singh', 1)\n",
      "('Mustafizur Rahman', 1)\n",
      "('PA Patel', 1)\n",
      "('PC Valthaty', 1)\n",
      "('R Vinay Kumar', 1)\n",
      "('Rashid Khan', 1)\n",
      "('S Dhawan', 1)\n",
      "('SC Ganguly', 1)\n",
      "('SE Marsh', 1)\n",
      "('SK Raina', 2)\n",
      "('SK Trivedi', 1)\n",
      "('SL Malinga', 1)\n",
      "('UT Yadav', 1)\n",
      "('V Kohli', 1)\n",
      "('V Sehwag', 2)\n",
      "('WP Saha', 1)\n",
      "('YK Pathan', 2)\n",
      "('Yuvraj Singh', 1)\n"
     ]
    },
    {
     "data": {
      "text/plain": [
       "0.028878245999999663"
      ]
     },
     "execution_count": 2,
     "metadata": {},
     "output_type": "execute_result"
    }
   ],
   "source": [
    "import timeit\n",
    "import pandas as pd\n",
    "import numpy as np\n",
    "\n",
    "def generateCricketInfo(matchData):\n",
    "    start = timeit.default_timer()\n",
    "    df = pd.read_csv(matchData)\n",
    "    \n",
    "    match = list(df['match_winner'].values)\n",
    "    win_team, wins = np.unique(match, return_counts = True)\n",
    "    match_team, match_wins = win_team[0:len(win_team)-3], wins[0:len(wins)-3]\n",
    "     \n",
    "    matchHYD, j = {}, 0\n",
    "    manOfMatch = list(df['ManOfMach'].values)\n",
    "    manOfMatchHYD = list(df.iat[i,14] for i in range(0, len(manOfMatch)) if df.iat[i,7] == 'Hyderabad' or df.iat[i,7] == 'Hyderabad (Deccan)')\n",
    "    man, freq = np.unique(manOfMatchHYD, return_counts = True)\n",
    "    \n",
    "    for i in man:\n",
    "        matchHYD[i] = freq[j]\n",
    "        j += 1\n",
    "        \n",
    "    print('Man of the match in Hyderabad: ', end = '\\n\\n')   \n",
    "    {print(i) for i in matchHYD.items()}\n",
    "      \n",
    "    return timeit.default_timer() - start\n",
    "generateCricketInfo('Match.csv')"
   ]
  },
  {
   "cell_type": "markdown",
   "metadata": {},
   "source": [
    "##    "
   ]
  },
  {
   "cell_type": "markdown",
   "metadata": {},
   "source": [
    "## Task 3 : Print number of matches won and loss(as two columns). Consider as win when a team wins Toss and Match. Print for each and every team"
   ]
  },
  {
   "cell_type": "code",
   "execution_count": 3,
   "metadata": {},
   "outputs": [
    {
     "name": "stdout",
     "output_type": "stream",
     "text": [
      "                          Teams  Wins  Losses\n",
      "0           Chennai Super Kings    42      37\n",
      "1               Deccan Chargers    19      10\n",
      "2              Delhi Daredevils    33      29\n",
      "3                 Gujarat Lions    10       3\n",
      "4               Kings XI Punjab    28      42\n",
      "5          Kochi Tuskers Kerala     4       2\n",
      "6         Kolkata Knight Riders    44      33\n",
      "7                Mumbai Indians    48      43\n",
      "8                 Pune Warriors     3       9\n",
      "9              Rajasthan Royals    34      29\n",
      "10      Rising Pune Supergiants     7       8\n",
      "11  Royal Challengers Bangalore    35      38\n",
      "12          Sunrisers Hyderabad    17      25\n"
     ]
    },
    {
     "data": {
      "text/plain": [
       "0.04496986299999994"
      ]
     },
     "execution_count": 3,
     "metadata": {},
     "output_type": "execute_result"
    }
   ],
   "source": [
    "import timeit\n",
    "import pandas as pd\n",
    "import numpy as np\n",
    "\n",
    "def generateCricketInfo(matchData):\n",
    "    start = timeit.default_timer()\n",
    "    df = pd.read_csv(matchData)\n",
    "    \n",
    "    match_won, match_lose, won, lose = [], [], [], []\n",
    "    \n",
    "    team1 = [df['Team1'].values]\n",
    "    team = np.unique(team1)\n",
    "            \n",
    "    won = [df.iat[i,10] for i in range(0, len(df)) if df.iat[i,9] == df.iat[i,10]]\n",
    "    lose = [df.iat[i,10] for i in range(0, len(df)) if df.iat[i,9] != df.iat[i,10]]\n",
    "\n",
    "    match_won, no_wins = np.unique(won, return_counts = True)\n",
    "    \n",
    "    lost, count = np.unique(lose, return_counts = True)\n",
    "    match_lose, no_losses = lost[:len(lost)-3], count[:len(count)-3]\n",
    "    \n",
    "    wins_losses = {'Teams' : team, 'Wins' : no_wins, 'Losses' : no_losses}\n",
    "    \n",
    "    dataframe = pd.DataFrame(wins_losses)\n",
    "    print(dataframe)\n",
    "    \n",
    "    return timeit.default_timer() - start\n",
    "\n",
    "generateCricketInfo('Match.csv')"
   ]
  }
 ],
 "metadata": {
  "kernelspec": {
   "display_name": "Python 3",
   "language": "python",
   "name": "python3"
  },
  "language_info": {
   "codemirror_mode": {
    "name": "ipython",
    "version": 3
   },
   "file_extension": ".py",
   "mimetype": "text/x-python",
   "name": "python",
   "nbconvert_exporter": "python",
   "pygments_lexer": "ipython3",
   "version": "3.7.1"
  }
 },
 "nbformat": 4,
 "nbformat_minor": 2
}
