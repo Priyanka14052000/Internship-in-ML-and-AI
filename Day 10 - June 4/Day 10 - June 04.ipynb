{
 "cells": [
  {
   "cell_type": "markdown",
   "metadata": {},
   "source": [
    "# Day - 10\n",
    "# Date - 04 June 2019\n",
    "# Outcomes - \n",
    ">* understanding statistic concepts"
   ]
  },
  {
   "cell_type": "markdown",
   "metadata": {},
   "source": [
    "#  "
   ]
  },
  {
   "cell_type": "markdown",
   "metadata": {},
   "source": [
    "## Tasks:\n",
    "* ### Create a new column which describes the number of points a player scored per game during the season. The number of total points a player scored the entire season is stored in the PTS column, and the number of games played in the Games Played column. Give the new column a relevant name.\n",
    "* ### Stratify the wnba data set by player position. The Pos column describes a player's position on the field. Assign each stratum to a different variable.\n",
    "* ### Loop through the strata, and for each stratum:\n",
    ">* Sample 10 observations using simple random sampling (set random_state = 0).\n",
    ">* Find the mean points per game using the sample. Use the new column you've created earlier.\n",
    ">* Find a way to store the mean along with its corresponding position. You can use a dictionary.\n",
    "* ### Find the position that has the greatest number of points per game, and assign its name to a variable named position_most_points.\n",
    ">* To find the dictionary key that has the greatest dictionary value."
   ]
  },
  {
   "cell_type": "code",
   "execution_count": 1,
   "metadata": {},
   "outputs": [
    {
     "name": "stdout",
     "output_type": "stream",
     "text": [
      "Position that has the greatest number of points per game is : C\n"
     ]
    }
   ],
   "source": [
    "import numpy as np\n",
    "import pandas as pd\n",
    "\n",
    "def stratifedSampling(stats):\n",
    "    df = pd.read_csv(stats)\n",
    "    mean_strata, j = {}, 0\n",
    "    \n",
    "    PTS_perGame = [float('{0:.1f}'.format(df.iat[i,29]/df.iat[i,11])) for i in range(0, len(df))]\n",
    "    df['PTS per Game'] = PTS_perGame\n",
    "    df.to_csv(stats, index = False)\n",
    "    \n",
    "    position = list(np.unique(list(df['Pos'].values)))\n",
    "    \n",
    "    strata_C = pd.Series([df.iat[i,32] for i in range(0, len(df)) if df.iat[i,2] == 'C'])\n",
    "    strata_F = pd.Series([df.iat[i,32] for i in range(0, len(df)) if df.iat[i,2] == 'F'])\n",
    "    strata_FC = pd.Series([df.iat[i,32] for i in range(0, len(df)) if df.iat[i,2] == 'F/C'])\n",
    "    strata_G = pd.Series([df.iat[i,32] for i in range(0, len(df)) if df.iat[i,2] == 'G'])\n",
    "    strata_GF = pd.Series([df.iat[i,32] for i in range(0, len(df)) if df.iat[i,2] == 'G/F'])\n",
    "    \n",
    "    sample_C = strata_C.sample(n = 10, random_state = 0)\n",
    "    sample_F = strata_F.sample(n = 10, random_state = 0)\n",
    "    sample_FC = strata_FC.sample(n = 10, random_state = 0)\n",
    "    sample_G = strata_G.sample(n = 10, random_state = 0)\n",
    "    sample_GF = strata_GF.sample(n = 10, random_state = 0)\n",
    "    \n",
    "    sample = [list(sample_C), list(sample_F), list(sample_FC), list(sample_G), list(sample_GF)]\n",
    "    \n",
    "    for i in sample:\n",
    "        mean_strata[position[j]] = '{0:.2f}'.format(sum(i)/len(i))\n",
    "        j += 1\n",
    "    \n",
    "    max_mean_strata = max(mean_strata, key=mean_strata.get)\n",
    "    print('Position that has the greatest number of points per game is :', max_mean_strata)\n",
    "    \n",
    "    return \n",
    "\n",
    "stratifedSampling('WNBAStats.csv')"
   ]
  },
  {
   "cell_type": "markdown",
   "metadata": {},
   "source": [
    "#      "
   ]
  },
  {
   "cell_type": "markdown",
   "metadata": {},
   "source": [
    "## Tasks:\n",
    "* ### Stratify the data set by the number of games played in the following way: \n",
    ">* The first strata should be composed of players that played 12 games or less\n",
    ">* The second of players that played more than 12 games, but up to 22 (included)\n",
    ">* The third of players that played more than 22 games (22 not included).\n",
    "* ### Perform stratified sampling 100 times. For each of the 100 iterations of a *for* loop:\n",
    ">* Sample each stratum proportionally. Sample at random: one sample observation from the first stratum, two sample observations from the second, and seven sample observations from the third stratum.\n",
    ">* random_state should vary from 0 to 99: 0 for the first iteration, 99 for the last iteration.\n",
    ">* Once you're done with the sampling for the current iteration of the loop, concatenate all the sample observations into one final sample. You can use pd.concat().\n",
    ">* Compute the mean of the final sample, and append it to a list defined outside the loop. The mean should be for the PTS column.\n",
    "* ### Display the entire sampling process.\n",
    ">* Using plt.scatter(), display the sampling means on a scatter plot. Place the means on the y-axis, and the sample numbers on the x-axis (the numbers should range from 1 to 100 - both endpoints included).\n",
    ">* Using plt.axhline(), display the population mean for the total points in the form of a horizontal line."
   ]
  },
  {
   "cell_type": "code",
   "execution_count": 4,
   "metadata": {},
   "outputs": [
    {
     "data": {
      "image/png": "[encoded data removed]",
      "text/plain": [
       "<Figure size 432x288 with 1 Axes>"
      ]
     },
     "metadata": {
      "needs_background": "light"
     },
     "output_type": "display_data"
    }
   ],
   "source": [
    "import numpy as np\n",
    "import pandas as pd\n",
    "import matplotlib.pyplot as plt\n",
    "\n",
    "def stratifedSampling(stats):\n",
    "    df = pd.read_csv(stats)\n",
    "    finalSample, sampling = [], []\n",
    "    \n",
    "    strata12 = pd.Series([df.iat[i,29] for i in range(0, len(df)) if df.iat[i,11] <= 12])\n",
    "    strata22 = pd.Series([df.iat[i,29] for i in range(0, len(df)) if df.iat[i,11] > 12 and df.iat[i,11] <= 22])\n",
    "    strata32 = pd.Series([df.iat[i,29] for i in range(0, len(df)) if df.iat[i,11] > 22])\n",
    "    \n",
    "    for i in range(0,100):\n",
    "        sample12 = strata12.sample(n = 1, random_state = i)\n",
    "        sample22 = strata22.sample(n = 2, random_state = i)\n",
    "        sample32 = strata32.sample(n = 7, random_state = i)\n",
    "        finalSample.append(pd.concat([sample12, sample22, sample32], ignore_index = True))\n",
    "    \n",
    "    sampling = [sum(i)/len(i) for i in finalSample]\n",
    "    \n",
    "    #scatter plot\n",
    "    \n",
    "    x = np.arange(1,101)  # numbers indicating 1 to 100\n",
    "    y = sampling  # list of 100 means\n",
    "    area = np.pi * 8   # list of random areas of circles with 10px\n",
    "    plt.scatter(x, y, s = area, c = 'orange', alpha = 0.7)\n",
    "    plt.axhline(y = sum(sampling)/len(sampling), linewidth = 1.3, color = 'red')\n",
    "    plt.grid(True)\n",
    "    plt.show()\n",
    "    \n",
    "    return \n",
    "\n",
    "stratifedSampling('WNBAStats.csv')"
   ]
  },
  {
   "cell_type": "markdown",
   "metadata": {},
   "source": [
    "#  "
   ]
  },
  {
   "cell_type": "markdown",
   "metadata": {},
   "source": [
    "## Tasks:\n",
    "* ### Pick four team clusters randomly using the technique we've learned (use random_state = 0).\n",
    "* ### Collect the data from each cluster without sampling the clusters. Create a new DataFrame object that stores the data collected from all clusters.\n",
    "* ### Use the data collected to estimate the mean for the following player attributes:\n",
    ">* Height\n",
    ">* Age\n",
    ">* BMI\n",
    ">* Total points\n",
    "* ### Finally, measure the sampling error of your estimates, and assign the errors to the following variables:\n",
    ">* sampling_error_height\n",
    ">* sampling_error_age\n",
    ">* sampling_error_BMI\n",
    ">* sampling_error_points"
   ]
  },
  {
   "cell_type": "code",
   "execution_count": 3,
   "metadata": {},
   "outputs": [
    {
     "name": "stdout",
     "output_type": "stream",
     "text": [
      "-0.06400121617511445\n",
      "-1.401337792642142\n",
      "0.06947741908785332\n",
      "-27.79674673152934\n"
     ]
    }
   ],
   "source": [
    "import pandas as pd\n",
    "import numpy as np\n",
    "\n",
    "def clusterSampling(stats):\n",
    "    df = pd.read_csv(stats)\n",
    "    frames = []\n",
    "\n",
    "    teams = pd.Series(df['Team'].unique())\n",
    "    team_cluster = teams.sample(n = 4, random_state = 0)\n",
    "    \n",
    "    for i in team_cluster:\n",
    "        count = 0\n",
    "        for j in range(0, len(df)):\n",
    "            if df.iat[j,1] == i:\n",
    "                frames.append(df.loc[j])\n",
    "      \n",
    "    data_frame = pd.DataFrame(frames)\n",
    "    \n",
    "    mean_height = sum(data_frame['Height'])/len(data_frame['Height'])\n",
    "    mean_age = sum(data_frame['Age'])/len(data_frame['Age'])\n",
    "    mean_BMI = sum(data_frame['BMI'])/len(data_frame['BMI'])\n",
    "    mean_PTS = sum(data_frame['PTS'])/len(data_frame['PTS'])\n",
    "         \n",
    "    df['BMI'].fillna(0, inplace = True)\n",
    "    \n",
    "    error_height = (sum(df['Height'])/len(df['Height'])) - mean_height\n",
    "    error_age = (sum(df['Age'])/len(df['Age'])) - mean_age\n",
    "    error_BMI = (sum(df['BMI'])/len(df['BMI'])) - mean_BMI\n",
    "    error_PTS = (sum(df['PTS'])/len(df['PTS'])) - mean_PTS\n",
    "    \n",
    "    print(error_height)\n",
    "    print(error_age)\n",
    "    print(error_BMI)\n",
    "    print(error_PTS)\n",
    "    \n",
    "    return \n",
    "\n",
    "clusterSampling('WNBAStats.csv')"
   ]
  }
 ],
 "metadata": {
  "kernelspec": {
   "display_name": "Python 3",
   "language": "python",
   "name": "python3"
  },
  "language_info": {
   "codemirror_mode": {
    "name": "ipython",
    "version": 3
   },
   "file_extension": ".py",
   "mimetype": "text/x-python",
   "name": "python",
   "nbconvert_exporter": "python",
   "pygments_lexer": "ipython3",
   "version": "3.7.1"
  }
 },
 "nbformat": 4,
 "nbformat_minor": 2
}
