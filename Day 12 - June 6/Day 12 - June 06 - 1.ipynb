{
 "cells": [
  {
   "cell_type": "markdown",
   "metadata": {},
   "source": [
    "# Day - 12\n",
    "# Date - 06 June 2019\n",
    "# Outcomes - \n",
    ">* understanding Statistics Fundamentals "
   ]
  },
  {
   "cell_type": "markdown",
   "metadata": {},
   "source": [
    "#  "
   ]
  },
  {
   "cell_type": "markdown",
   "metadata": {},
   "source": [
    "## Tasks:\n",
    "### Inspect the data set, and find the variables measured on a nominal scale. In the code editor:\n",
    ">* Add the variables measured on a nominal scale to a list named nominal_scale, and sort the elements in the list alphabetically (the sorting helps us with answer checking)."
   ]
  },
  {
   "cell_type": "code",
   "execution_count": 1,
   "metadata": {},
   "outputs": [
    {
     "data": {
      "text/plain": [
       "['Team', 'Pos', 'Birth_Place', 'College']"
      ]
     },
     "execution_count": 1,
     "metadata": {},
     "output_type": "execute_result"
    }
   ],
   "source": [
    "import pandas as pd\n",
    "\n",
    "stats = pd.read_csv('WNBAStats.csv')\n",
    "nominal_scale = ['Team', 'Pos', 'Birth_Place', 'College']\n",
    "nominal_scale"
   ]
  },
  {
   "cell_type": "markdown",
   "metadata": {},
   "source": [
    "#  "
   ]
  },
  {
   "cell_type": "markdown",
   "metadata": {},
   "source": [
    "## Tasks:\n",
    "### Consider the following sentences, and evaluate their truth value. If the sentence is true, then assign True to the corresponding variable (programming variable) in the code editor, otherwise assign False. Make sure you assign boolean values as answers, not strings.\n",
    ">* Using the Height_labels variable only, we can tell whether player Kiah Stokes is taller than Riquna Williams. Assign your answer to a variable named question1.\n",
    ">* We can measure the height difference between Kiah Stokes and Riquna Williams using the Height_labels variable. Assign your answer to question2.\n",
    ">* The Height_labels and the College variables are both measured on an ordinal scale. Assign your answer to question3.\n",
    ">* The Games Played variable is not measured on an ordinal scale. Assign your answer to question4.\n",
    ">* The Experience variable is measured on an ordinal scale. Assign your answer to question5.\n",
    ">* The Height_labels variable is qualitative because it is measured using words. Assign your answer to question6."
   ]
  },
  {
   "cell_type": "code",
   "execution_count": 2,
   "metadata": {},
   "outputs": [
    {
     "name": "stdout",
     "output_type": "stream",
     "text": [
      "True\n",
      "True\n",
      "False\n",
      "False\n",
      "True\n",
      "False\n"
     ]
    }
   ],
   "source": [
    "height = stats['Height']\n",
    "for i in range(0, len(height)):\n",
    "    if stats.iat[i,0] == 'Kiah Stokes':\n",
    "        ks = stats.iat[i,3]\n",
    "    if stats.iat[i,0] == 'Riquna Williams':\n",
    "        rw = stats.iat[i,3]\n",
    "\n",
    "if ks > rw:\n",
    "    question1 = True\n",
    "else:\n",
    "    question1 = False\n",
    "\n",
    "question2 = True\n",
    "question3 = False\n",
    "question4 = False\n",
    "question5 = True\n",
    "question6 = False\n",
    "\n",
    "print(question1)\n",
    "print(question2)\n",
    "print(question3)\n",
    "print(question4)\n",
    "print(question5)\n",
    "print(question6)"
   ]
  },
  {
   "cell_type": "markdown",
   "metadata": {},
   "source": [
    "#  "
   ]
  },
  {
   "cell_type": "markdown",
   "metadata": {},
   "source": [
    "## Tasks:\n",
    "* ### Examine the various variables of the data set, and find the ones that are measured on an interval or ratio scale.\n",
    ">* For the variables measured on a interval scale, add their names as a stringto a list named interval. Sort the list alphabetically.\n",
    ">* For the variables measured on a ratio scale, add their names as a string to a list named ratio. Sort the list alphabetically.\n",
    ">* We've also added the Weight_deviation variable to the dataset, so make sure you include that one too in one of the lists."
   ]
  },
  {
   "cell_type": "code",
   "execution_count": 3,
   "metadata": {},
   "outputs": [
    {
     "name": "stdout",
     "output_type": "stream",
     "text": [
      "['AST', 'DREB', 'OREB', 'PTS', 'weight_deviation']\n",
      "['Age', 'BMI', 'Experience', 'FGM', 'Games Played', 'Height', 'Weight']\n"
     ]
    }
   ],
   "source": [
    "interval = sorted(['OREB', 'DREB', 'AST', 'PTS', 'weight_deviation'])\n",
    "ratio = sorted(['Height', 'Weight', 'Age', 'Experience', 'Games Played', 'BMI', 'FGM'])\n",
    "print(interval)\n",
    "print(ratio)"
   ]
  },
  {
   "cell_type": "markdown",
   "metadata": {},
   "source": [
    "#  "
   ]
  },
  {
   "cell_type": "markdown",
   "metadata": {},
   "source": [
    "## Tasks:\n",
    "### For every variable, indicate whether is continuous or discrete.\n",
    "* In the code editor, we've already extracted for you the names of the variables that are measured on ratio and interval scales. Every variable name is registered as a dictionary key.\n",
    "* If a variable is discrete, then assign the string 'discrete' to its corresponding dictionary key.\n",
    "* If a variable is continuous, then assign the string 'continuous' to its corresponding dictionary key.\n"
   ]
  },
  {
   "cell_type": "code",
   "execution_count": 4,
   "metadata": {},
   "outputs": [
    {
     "data": {
      "text/plain": [
       "{'Name': 'discrete',\n",
       " 'Team': 'discrete',\n",
       " 'Pos': 'discrete',\n",
       " 'Height': 'continuous',\n",
       " 'Weight': 'continuous',\n",
       " 'BMI': 'continuous',\n",
       " 'Birth_Place': 'discrete',\n",
       " 'Birthdate': 'discrete',\n",
       " 'Age': 'continuous',\n",
       " 'College': 'discrete',\n",
       " 'Experience': 'discrete',\n",
       " 'Games Played': 'discrete',\n",
       " 'MIN': 'discrete',\n",
       " 'FGM': 'discrete',\n",
       " 'FGA': 'discrete',\n",
       " 'FG%': 'continuous',\n",
       " '15:00': 'discrete',\n",
       " '3PA': 'discrete',\n",
       " '3P%': 'continuous',\n",
       " 'FTM': 'discrete',\n",
       " 'FTA': 'discrete',\n",
       " 'FT%': 'continuous',\n",
       " 'OREB': 'discrete',\n",
       " 'DREB': 'discrete',\n",
       " 'REB': 'discrete',\n",
       " 'AST': 'discrete',\n",
       " 'STL': 'discrete',\n",
       " 'BLK': 'discrete',\n",
       " 'TO': 'discrete',\n",
       " 'PTS': 'discrete',\n",
       " 'DD2': 'discrete',\n",
       " 'TD3': 'discrete',\n",
       " 'PTS per Game': 'discrete'}"
      ]
     },
     "execution_count": 4,
     "metadata": {},
     "output_type": "execute_result"
    }
   ],
   "source": [
    "category = {'Name' : 'discrete', 'Team' : 'discrete', 'Pos' : 'discrete', 'Height' : 'continuous', \n",
    "            'Weight' : 'continuous', 'BMI' : 'continuous', 'Birth_Place' : 'discrete','Birthdate' : 'discrete', \n",
    "            'Age' : 'continuous', 'College' : 'discrete', 'Experience' : 'discrete', 'Games Played' : 'discrete',\n",
    "            'MIN' : 'discrete','FGM' : 'discrete', 'FGA' : 'discrete', 'FG%' : 'continuous', \n",
    "            '15:00' : 'discrete', '3PA' : 'discrete', '3P%' : 'continuous', 'FTM' : 'discrete', \n",
    "            'FTA' : 'discrete', 'FT%' : 'continuous', 'OREB' : 'discrete','DREB' : 'discrete', \n",
    "            'REB' : 'discrete', 'AST' : 'discrete', 'STL' : 'discrete', 'BLK' : 'discrete', \n",
    "            'TO' : 'discrete', 'PTS' : 'discrete', 'DD2' : 'discrete', 'TD3' : 'discrete',\n",
    "            'PTS per Game' : 'discrete'}\n",
    "category"
   ]
  },
  {
   "cell_type": "markdown",
   "metadata": {},
   "source": [
    "#  "
   ]
  },
  {
   "cell_type": "markdown",
   "metadata": {},
   "source": [
    "## Tasks:\n",
    "### Find the real limits for five values of the BMI (body mass index) variable.\n",
    "* We've already extracted the first five BMI values in the data set and rounded each off to a precision of three decimal places. We stored the values as dictionary keys in a dictionary named bmi.\n",
    "* For every BMI value write its real limits in a list and make the list a dictionary value that should correspond to the right dictionary key. The lower real limits should come first in each list. For example:\n",
    "<p>bmi = {20: [19.5, 20.5],</p>\n",
    "       <p>21: [20.5, 21.5],</p>\n",
    "       <p>23: [22.5, 23.5],</p>\n",
    "       <p>24: [23.5, 24.5],</p>\n",
    "       <p>22: [21.5, 22.5]}</p>"
   ]
  },
  {
   "cell_type": "code",
   "execution_count": 5,
   "metadata": {},
   "outputs": [
    {
     "name": "stdout",
     "output_type": "stream",
     "text": [
      "(0, [0.0, 0.0])\n",
      "\n",
      "(18, [18.39, 18.61])\n",
      "\n",
      "(19, [18.39, 19.75])\n",
      "\n",
      "(20, [19.27, 20.94])\n",
      "\n",
      "(21, [20.2, 21.94])\n",
      "\n",
      "(22, [21.11, 22.99])\n",
      "\n",
      "(23, [22.05, 23.89])\n",
      "\n",
      "(24, [23.03, 24.99])\n",
      "\n",
      "(25, [24.07, 25.95])\n",
      "\n",
      "(26, [25.06, 26.83])\n",
      "\n",
      "(27, [26.0, 27.92])\n",
      "\n",
      "(28, [27.17, 28.51])\n",
      "\n",
      "(29, [28.51, 29.41])\n",
      "\n",
      "(30, [29.41, 30.34])\n",
      "\n",
      "(31, [30.34, 31.56])\n",
      "\n"
     ]
    }
   ],
   "source": [
    "import pandas as pd\n",
    "import math\n",
    "import numpy as np\n",
    "\n",
    "stat = pd.read_csv('WNBAStats.csv')\n",
    "stats = stat.fillna(0)\n",
    "\n",
    "mass_index = stats['BMI'].unique()\n",
    "mass, index = [], []\n",
    "bmi = {}\n",
    "\n",
    "for i in mass_index:\n",
    "    mass.append(math.floor(i))\n",
    "\n",
    "body_mass_index = np.unique(mass)\n",
    "for i in range(0, len(body_mass_index)):\n",
    "    for j in range(0, len(stats)):\n",
    "        if math.floor(stats.iat[j,5]) == body_mass_index[i]:\n",
    "            index.append(stats.iat[j,5])\n",
    "        if math.ceil(stats.iat[j,5]) == body_mass_index[i]:\n",
    "            index.append(stats.iat[j,5])\n",
    "    index = [float('{0:.2f}'.format(min(index))), float('{0:.2f}'.format(max(index)))]\n",
    "    bmi[body_mass_index[i]] = sorted(index)\n",
    "    index = []\n",
    "\n",
    "for i in bmi.items():\n",
    "    print(i, end = '\\n\\n')"
   ]
  }
 ],
 "metadata": {
  "kernelspec": {
   "display_name": "Python 3",
   "language": "python",
   "name": "python3"
  },
  "language_info": {
   "codemirror_mode": {
    "name": "ipython",
    "version": 3
   },
   "file_extension": ".py",
   "mimetype": "text/x-python",
   "name": "python",
   "nbconvert_exporter": "python",
   "pygments_lexer": "ipython3",
   "version": "3.7.1"
  }
 },
 "nbformat": 4,
 "nbformat_minor": 2
}
