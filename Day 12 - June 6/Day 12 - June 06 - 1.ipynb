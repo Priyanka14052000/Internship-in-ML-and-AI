{
 "cells": [
  {
   "cell_type": "markdown",
   "metadata": {},
   "source": [
    "# Day - 12\n",
    "# Date - 06 June 2019\n",
    "# Outcomes - \n",
    ">* understanding Statistics Fundamentals "
   ]
  },
  {
   "cell_type": "markdown",
   "metadata": {},
   "source": [
    "#  "
   ]
  },
  {
   "cell_type": "markdown",
   "metadata": {},
   "source": [
    "## Tasks:\n",
    "### Inspect the data set, and find the variables measured on a nominal scale. In the code editor:\n",
    ">* Add the variables measured on a nominal scale to a list named nominal_scale, and sort the elements in the list alphabetically (the sorting helps us with answer checking)."
   ]
  },
  {
   "cell_type": "code",
   "execution_count": 1,
   "metadata": {},
   "outputs": [
    {
     "data": {
      "text/plain": [
       "['Team', 'Pos', 'Birth_Place', 'College']"
      ]
     },
     "execution_count": 1,
     "metadata": {},
     "output_type": "execute_result"
    }
   ],
   "source": [
    "import pandas as pd\n",
    "\n",
    "stats = pd.read_csv('WNBAStats.csv')\n",
    "nominal_scale = ['Team', 'Pos', 'Birth_Place', 'College']\n",
    "nominal_scale"
   ]
  },
  {
   "cell_type": "markdown",
   "metadata": {},
   "source": [
    "#  "
   ]
  },
  {
   "cell_type": "markdown",
   "metadata": {},
   "source": [
    "## Tasks:\n",
    "### Consider the following sentences, and evaluate their truth value. If the sentence is true, then assign True to the corresponding variable (programming variable) in the code editor, otherwise assign False. Make sure you assign boolean values as answers, not strings.\n",
    ">* Using the Height_labels variable only, we can tell whether player Kiah Stokes is taller than Riquna Williams. Assign your answer to a variable named question1.\n",
    ">* We can measure the height difference between Kiah Stokes and Riquna Williams using the Height_labels variable. Assign your answer to question2.\n",
    ">* The Height_labels and the College variables are both measured on an ordinal scale. Assign your answer to question3.\n",
    ">* The Games Played variable is not measured on an ordinal scale. Assign your answer to question4.\n",
    ">* The Experience variable is measured on an ordinal scale. Assign your answer to question5.\n",
    ">* The Height_labels variable is qualitative because it is measured using words. Assign your answer to question6."
   ]
  },
  {
   "cell_type": "code",
   "execution_count": 2,
   "metadata": {},
   "outputs": [
    {
     "name": "stdout",
     "output_type": "stream",
     "text": [
      "True\n",
      "True\n",
      "False\n",
      "False\n",
      "True\n",
      "False\n"
     ]
    }
   ],
   "source": [
    "height = stats['Height']\n",
    "for i in range(0, len(height)):\n",
    "    if stats.iat[i,0] == 'Kiah Stokes':\n",
    "        ks = stats.iat[i,3]\n",
    "    if stats.iat[i,0] == 'Riquna Williams':\n",
    "        rw = stats.iat[i,3]\n",
    "\n",
    "if ks > rw:\n",
    "    question1 = True\n",
    "else:\n",
    "    question1 = False\n",
    "\n",
    "question2 = True\n",
    "question3 = False\n",
    "question4 = False\n",
    "question5 = True\n",
    "question6 = False\n",
    "\n",
    "print(question1)\n",
    "print(question2)\n",
    "print(question3)\n",
    "print(question4)\n",
    "print(question5)\n",
    "print(question6)"
   ]
  },
  {
   "cell_type": "markdown",
   "metadata": {},
   "source": [
    "#  "
   ]
  },
  {
   "cell_type": "markdown",
   "metadata": {},
   "source": [
    "## Tasks:\n",
    "* ### Examine the various variables of the data set, and find the ones that are measured on an interval or ratio scale.\n",
    ">* For the variables measured on a interval scale, add their names as a stringto a list named interval. Sort the list alphabetically.\n",
    ">* For the variables measured on a ratio scale, add their names as a string to a list named ratio. Sort the list alphabetically.\n",
    ">* We've also added the Weight_deviation variable to the dataset, so make sure you include that one too in one of the lists."
   ]
  },
  {
   "cell_type": "code",
   "execution_count": 3,
   "metadata": {},
   "outputs": [
    {
     "name": "stdout",
     "output_type": "stream",
     "text": [
      "['AST', 'DREB', 'OREB', 'PTS', 'weight_deviation']\n",
      "['Age', 'BMI', 'Experience', 'FGM', 'Games Played', 'Height', 'Weight']\n"
     ]
    }
   ],
   "source": [
    "interval = sorted(['OREB', 'DREB', 'AST', 'PTS', 'weight_deviation'])\n",
    "ratio = sorted(['Height', 'Weight', 'Age', 'Experience', 'Games Played', 'BMI', 'FGM'])\n",
    "print(interval)\n",
    "print(ratio)"
   ]
  },
  {
   "cell_type": "markdown",
   "metadata": {},
   "source": [
    "#  "
   ]
  },
  {
   "cell_type": "markdown",
   "metadata": {},
   "source": [
    "## Tasks:\n",
    "### For every variable, indicate whether is continuous or discrete.\n",
    "* In the code editor, we've already extracted for you the names of the variables that are measured on ratio and interval scales. Every variable name is registered as a dictionary key.\n",
    "* If a variable is discrete, then assign the string 'discrete' to its corresponding dictionary key.\n",
    "* If a variable is continuous, then assign the string 'continuous' to its corresponding dictionary key.\n"
   ]
  },
  {
   "cell_type": "code",
   "execution_count": 4,
   "metadata": {},
   "outputs": [
    {
     "data": {
      "text/plain": [
       "{'Name': 'discrete',\n",
       " 'Team': 'discrete',\n",
       " 'Pos': 'discrete',\n",
       " 'Height': 'continuous',\n",
       " 'Weight': 'continuous',\n",
       " 'BMI': 'continuous',\n",
       " 'Birth_Place': 'discrete',\n",
       " 'Birthdate': 'discrete',\n",
       " 'Age': 'continuous',\n",
       " 'College': 'discrete',\n",
       " 'Experience': 'discrete',\n",
       " 'Games Played': 'discrete',\n",
       " 'MIN': 'discrete',\n",
       " 'FGM': 'discrete',\n",
       " 'FGA': 'discrete',\n",
       " 'FG%': 'continuous',\n",
       " '15:00': 'discrete',\n",
       " '3PA': 'discrete',\n",
       " '3P%': 'continuous',\n",
       " 'FTM': 'discrete',\n",
       " 'FTA': 'discrete',\n",
       " 'FT%': 'continuous',\n",
       " 'OREB': 'discrete',\n",
       " 'DREB': 'discrete',\n",
       " 'REB': 'discrete',\n",
       " 'AST': 'discrete',\n",
       " 'STL': 'discrete',\n",
       " 'BLK': 'discrete',\n",
       " 'TO': 'discrete',\n",
       " 'PTS': 'discrete',\n",
       " 'DD2': 'discrete',\n",
       " 'TD3': 'discrete',\n",
       " 'PTS per Game': 'discrete'}"
      ]
     },
     "execution_count": 4,
     "metadata": {},
     "output_type": "execute_result"
    }
   ],
   "source": [
    "category = {'Name' : 'discrete', 'Team' : 'discrete', 'Pos' : 'discrete', 'Height' : 'continuous', \n",
    "            'Weight' : 'continuous', 'BMI' : 'continuous', 'Birth_Place' : 'discrete','Birthdate' : 'discrete', \n",
    "            'Age' : 'continuous', 'College' : 'discrete', 'Experience' : 'discrete', 'Games Played' : 'discrete',\n",
    "            'MIN' : 'discrete','FGM' : 'discrete', 'FGA' : 'discrete', 'FG%' : 'continuous', \n",
    "            '15:00' : 'discrete', '3PA' : 'discrete', '3P%' : 'continuous', 'FTM' : 'discrete', \n",
    "            'FTA' : 'discrete', 'FT%' : 'continuous', 'OREB' : 'discrete','DREB' : 'discrete', \n",
    "            'REB' : 'discrete', 'AST' : 'discrete', 'STL' : 'discrete', 'BLK' : 'discrete', \n",
    "            'TO' : 'discrete', 'PTS' : 'discrete', 'DD2' : 'discrete', 'TD3' : 'discrete',\n",
    "            'PTS per Game' : 'discrete'}\n",
    "category"
   ]
  },
  {
   "cell_type": "markdown",
   "metadata": {},
   "source": [
    "#  "
   ]
  },
  {
   "cell_type": "markdown",
   "metadata": {},
   "source": [
    "## Tasks:\n",
    "### Find the real limits for five values of the BMI (body mass index) variable.\n",
    "* We've already extracted the first five BMI values in the data set and rounded each off to a precision of three decimal places. We stored the values as dictionary keys in a dictionary named bmi.\n",
    "* For every BMI value write its real limits in a list and make the list a dictionary value that should correspond to the right dictionary key. The lower real limits should come first in each list. For example:\n",
    "<p>bmi = {20: [19.5, 20.5],</p>\n",
    "       <p>21: [20.5, 21.5],</p>\n",
    "       <p>23: [22.5, 23.5],</p>\n",
    "       <p>24: [23.5, 24.5],</p>\n",
    "       <p>22: [21.5, 22.5]}</p>"
   ]
  },
  {
   "cell_type": "code",
   "execution_count": 5,
   "metadata": {},
   "outputs": [
    {
     "name": "stdout",
     "output_type": "stream",
     "text": [
      "(18, [18.39067451, 18.6122449])\n",
      "\n",
      "(19, [18.39067451, 18.6122449, 19.26530612, 19.48696145, 19.75308642])\n",
      "\n",
      "(20, [19.26530612, 19.48696145, 19.75308642, 20.19946976, 20.30517483, 20.41522491, 20.45288532, 20.45288532, 20.67169588, 20.71569381, 20.83070319, 20.89795918, 20.937075600000004])\n",
      "\n",
      "(21, [20.19946976, 20.30517483, 20.41522491, 20.45288532, 20.45288532, 20.67169588, 20.71569381, 20.83070319, 20.89795918, 20.937075600000004, 21.10687755, 21.10687755, 21.14631991, 21.20099137, 21.20862305, 21.20862305, 21.22000905, 21.30394858, 21.32943755, 21.32943755, 21.383942, 21.383942, 21.47708663, 21.55102041, 21.55102041, 21.55102041, 21.55102041, 21.71806609, 21.71806609, 21.78163907, 21.78587596, 21.78587596, 21.79820239, 21.79930796, 21.79930796, 21.91535489, 21.93653709])\n",
      "\n",
      "(22, [21.10687755, 21.10687755, 21.14631991, 21.20099137, 21.20862305, 21.20862305, 21.22000905, 21.30394858, 21.32943755, 21.32943755, 21.383942, 21.383942, 21.47708663, 21.55102041, 21.55102041, 21.55102041, 21.55102041, 21.71806609, 21.71806609, 21.78163907, 21.78587596, 21.78587596, 21.79820239, 21.79930796, 21.79930796, 21.91535489, 21.93653709, 22.05219018, 22.05219018, 22.05219018, 22.09317005, 22.09680791, 22.09680791, 22.12619742, 22.143139345, 22.20408163, 22.20598977, 22.20598977, 22.28247738, 22.28247738, 22.32142857, 22.35174287, 22.35174287, 22.35174287, 22.38650562, 22.44668911, 22.47745402, 22.49134948, 22.49817385, 22.49817385, 22.53061224, 22.55094096, 22.55094096, 22.55094096, 22.75156931, 22.79035793, 22.83950617, 22.90712203, 22.90712203, 22.91760978, 22.91760978, 22.91760978, 22.95684114, 22.99262444])\n",
      "\n",
      "(23, [22.05219018, 22.05219018, 22.05219018, 22.09317005, 22.09680791, 22.09680791, 22.12619742, 22.143139345, 22.20408163, 22.20598977, 22.20598977, 22.28247738, 22.28247738, 22.32142857, 22.35174287, 22.35174287, 22.35174287, 22.38650562, 22.44668911, 22.47745402, 22.49134948, 22.49817385, 22.49817385, 22.53061224, 22.55094096, 22.55094096, 22.55094096, 22.75156931, 22.79035793, 22.83950617, 22.90712203, 22.90712203, 22.91760978, 22.91760978, 22.91760978, 22.95684114, 22.99262444, 23.0256846, 23.08786813, 23.08786813, 23.18367347, 23.20054323, 23.29122996, 23.35633171, 23.35633171, 23.45679012, 23.51426945, 23.57391519, 23.624795300000002, 23.68804665, 23.7654321, 23.76641014, 23.76641014, 23.76641014, 23.76641014, 23.83673469, 23.84803048, 23.84803048, 23.84803048, 23.87543253, 23.88844098, 23.88844098, 23.89325888])\n",
      "\n",
      "(24, [23.0256846, 23.08786813, 23.08786813, 23.18367347, 23.20054323, 23.29122996, 23.35633171, 23.35633171, 23.45679012, 23.51426945, 23.57391519, 23.624795300000002, 23.68804665, 23.7654321, 23.76641014, 23.76641014, 23.76641014, 23.76641014, 23.83673469, 23.84803048, 23.84803048, 23.84803048, 23.87543253, 23.88844098, 23.88844098, 23.89325888, 24.07407407, 24.16172246, 24.18704649, 24.20866306, 24.2322212, 24.30248706, 24.33227705, 24.38271605, 24.39105884, 24.39105884, 24.39626107, 24.48565201, 24.48729721, 24.48979592, 24.54346238, 24.81632653, 24.89814396, 24.98958767])\n",
      "\n",
      "(25, [24.07407407, 24.16172246, 24.18704649, 24.20866306, 24.2322212, 24.30248706, 24.33227705, 24.38271605, 24.39105884, 24.39105884, 24.39626107, 24.48565201, 24.48729721, 24.48979592, 24.54346238, 24.81632653, 24.89814396, 24.98958767, 25.05930703, 25.12783053, 25.24989588, 25.30864198, 25.42001461, 25.46938776, 25.46938776, 25.74694432, 25.74694432, 25.95155709])\n",
      "\n",
      "(26, [25.05930703, 25.12783053, 25.24989588, 25.30864198, 25.42001461, 25.46938776, 25.46938776, 25.74694432, 25.74694432, 25.95155709, 26.00438276, 26.19618735, 26.44897959, 26.82742078])\n",
      "\n",
      "(27, [26.00438276, 26.19618735, 26.44897959, 26.82742078, 27.17311907, 27.92021262])\n",
      "\n",
      "(28, [27.17311907, 27.92021262, 28.50799046])\n",
      "\n",
      "(29, [28.50799046, 29.41482716])\n",
      "\n",
      "(30, [29.41482716, 30.33638487])\n",
      "\n",
      "(31, [30.33638487, 31.555880199999997])\n",
      "\n"
     ]
    }
   ],
   "source": [
    "import pandas as pd\n",
    "import math\n",
    "import numpy as np\n",
    "\n",
    "stat = pd.read_csv('WNBAStats.csv')\n",
    "stats = stat.interpolate()\n",
    "\n",
    "mass_index = stats['BMI'].unique()\n",
    "mass, index = [], []\n",
    "bmi = {}\n",
    "\n",
    "for i in mass_index:\n",
    "    mass.append(math.floor(i))\n",
    "\n",
    "body_mass_index = np.unique(mass)\n",
    "\n",
    "for i in range(0, len(body_mass_index)):\n",
    "    for j in range(0, len(stats)):\n",
    "        if math.floor(stats.iat[j,5]) == body_mass_index[i]:\n",
    "            index.append(stats.iat[j,5])\n",
    "        if math.ceil(stats.iat[j,5]) == body_mass_index[i]:\n",
    "            index.append(stats.iat[j,5])\n",
    "    bmi[body_mass_index[i]] = sorted(index)\n",
    "    index = []\n",
    "\n",
    "for i in bmi.items():\n",
    "    print(i, end = '\\n\\n')"
   ]
  }
 ],
 "metadata": {
  "kernelspec": {
   "display_name": "Python 3",
   "language": "python",
   "name": "python3"
  },
  "language_info": {
   "codemirror_mode": {
    "name": "ipython",
    "version": 3
   },
   "file_extension": ".py",
   "mimetype": "text/x-python",
   "name": "python",
   "nbconvert_exporter": "python",
   "pygments_lexer": "ipython3",
   "version": "3.7.1"
  }
 },
 "nbformat": 4,
 "nbformat_minor": 2
}
